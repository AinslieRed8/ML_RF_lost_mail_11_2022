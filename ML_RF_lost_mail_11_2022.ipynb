{
 "cells": [
  {
   "cell_type": "markdown",
   "id": "7d26cec0",
   "metadata": {},
   "source": [
    "### Условие задачи"
   ]
  },
  {
   "cell_type": "markdown",
   "id": "477e24db",
   "metadata": {},
   "source": [
    "Разработка модели предсказания потери почтовых отправлений."
   ]
  },
  {
   "cell_type": "markdown",
   "id": "5d3aaa6f",
   "metadata": {},
   "source": [
    "### Описание входных значений"
   ]
  },
  {
   "cell_type": "markdown",
   "id": "ed2478d9",
   "metadata": {},
   "source": [
    "train.csv — файл, содержащий данные о посылках, включая статус отправления\n",
    "\n",
    "1 - операция, на которой цифровой след оборвался, т.к.\n",
    "отправление потеряно\n",
    "0 - отправление было вручено или возвращено\n",
    "отправителю\n",
    "\n",
    "\n",
    "test.csv — файл, содержащий данные о посылках для предсказания\n",
    "\n",
    "sample_solution.csv — пример файла для отправки"
   ]
  },
  {
   "cell_type": "markdown",
   "id": "a4e066fb",
   "metadata": {},
   "source": [
    "### Функции"
   ]
  },
  {
   "cell_type": "code",
   "execution_count": 1,
   "id": "d2d6164d",
   "metadata": {},
   "outputs": [],
   "source": [
    "def df_info(data):\n",
    "    display(data.info(verbose=True, show_counts=True))\n",
    "    display(data.head())"
   ]
  },
  {
   "cell_type": "code",
   "execution_count": 2,
   "id": "ac17e873",
   "metadata": {},
   "outputs": [],
   "source": [
    "# функция для вывода матрицы корреляций\\\n",
    "def corr_heatmap(data, title):\n",
    "    data.corr()\n",
    "    plt.figure(figsize=(18,10))\n",
    "    sns.set(font_scale=1.1)\n",
    "    sns.heatmap(data.corr(), annot=True, square=True, cmap=\"PuBuGn\", fmt='.2f')\\\n",
    "    .set_title(title)\n",
    "    plt.show()"
   ]
  },
  {
   "cell_type": "code",
   "execution_count": 3,
   "id": "fb182144",
   "metadata": {},
   "outputs": [],
   "source": [
    "def df_countplot(data, x, hue):\n",
    "    plt.figure(figsize=(15,5))\n",
    "    sns.countplot(x=x, hue = hue,data = data)\n",
    "    plt.show()"
   ]
  },
  {
   "cell_type": "code",
   "execution_count": 4,
   "id": "574e4b46",
   "metadata": {},
   "outputs": [],
   "source": [
    "def hist(data, col):\n",
    "    data[col].hist(figsize=(15,5))\n",
    "    plt.show()"
   ]
  },
  {
   "cell_type": "code",
   "execution_count": 5,
   "id": "eb10215f",
   "metadata": {},
   "outputs": [],
   "source": [
    "def boxplot(x):\n",
    "    plt.figure(figsize=(15,5))\n",
    "    sns.boxplot(x=x)\n",
    "    plt.show()"
   ]
  },
  {
   "cell_type": "code",
   "execution_count": 6,
   "id": "506dc0bf",
   "metadata": {},
   "outputs": [],
   "source": [
    "def uniq(col):\n",
    "    print('df_train', df_train[col].nunique())\n",
    "    print('df_test', df_test[col].nunique())    "
   ]
  },
  {
   "cell_type": "code",
   "execution_count": 7,
   "id": "6e53937d",
   "metadata": {},
   "outputs": [],
   "source": [
    "def val(col):\n",
    "    print('df_train')\n",
    "    print(df_train[col].value_counts())\n",
    "    print('df_test')\n",
    "    print(df_test[col].value_counts())   "
   ]
  },
  {
   "cell_type": "markdown",
   "id": "cc97e23f",
   "metadata": {},
   "source": [
    "###  Библиотеки"
   ]
  },
  {
   "cell_type": "code",
   "execution_count": 8,
   "id": "f8ba5092",
   "metadata": {},
   "outputs": [],
   "source": [
    "import pandas as pd\n",
    "import numpy as np\n",
    "import seaborn as sns\n",
    "import matplotlib.pyplot as plt\n",
    "from sklearn.model_selection import train_test_split\n",
    "from sklearn.ensemble import RandomForestClassifier\n",
    "from sklearn.metrics import recall_score\n",
    "from catboost import CatBoostClassifier\n",
    "from sklearn.linear_model import LogisticRegression\n",
    "\n",
    "from datetime import datetime\n",
    "\n",
    "%matplotlib inline\n",
    "\n",
    "#отлючаем уведомления от Pandas\n",
    "import warnings\n",
    "warnings.filterwarnings('ignore')"
   ]
  },
  {
   "cell_type": "code",
   "execution_count": 9,
   "id": "0426df75",
   "metadata": {},
   "outputs": [],
   "source": [
    "from catboost import CatBoostClassifier\n",
    "from sklearn.model_selection import train_test_split\n",
    "from sklearn.tree import DecisionTreeClassifier \n",
    "from sklearn.ensemble import RandomForestClassifier\n",
    "from sklearn.tree import DecisionTreeRegressor\n",
    "from sklearn.preprocessing import OrdinalEncoder\n",
    "from sklearn.preprocessing import StandardScaler\n",
    "\n",
    "from sklearn.metrics import accuracy_score \n",
    "from sklearn.metrics import recall_score\n",
    "from sklearn.metrics import precision_score\n",
    "from sklearn.metrics import f1_score\n",
    "from sklearn.metrics import mean_squared_error\n",
    "from sklearn.utils import shuffle\n",
    "from sklearn.metrics import roc_auc_score"
   ]
  },
  {
   "cell_type": "markdown",
   "id": "c2c99ac4",
   "metadata": {},
   "source": [
    "### Загрузка датасетов"
   ]
  },
  {
   "cell_type": "code",
   "execution_count": 10,
   "id": "684995c7",
   "metadata": {},
   "outputs": [],
   "source": [
    "df_train = pd.read_csv(\"train_dataset_train.csv\")\n",
    "df_test = pd.read_csv(\"test_dataset_test.csv\")\n",
    "df_sample_solution = pd.read_csv(\"sample_solution.csv\")"
   ]
  },
  {
   "cell_type": "code",
   "execution_count": 11,
   "id": "98d576aa",
   "metadata": {},
   "outputs": [],
   "source": [
    "df_train_1 = df_train[df_train['label']==1]\n",
    "df_train_0 = df_train[df_train['label']==0]"
   ]
  },
  {
   "cell_type": "markdown",
   "id": "0cdcdff9",
   "metadata": {},
   "source": [
    "### Знакомство с данными"
   ]
  },
  {
   "cell_type": "code",
   "execution_count": 12,
   "id": "0303307b",
   "metadata": {},
   "outputs": [
    {
     "name": "stdout",
     "output_type": "stream",
     "text": [
      "<class 'pandas.core.frame.DataFrame'>\n",
      "RangeIndex: 6000000 entries, 0 to 5999999\n",
      "Data columns (total 29 columns):\n",
      " #   Column                         Non-Null Count    Dtype  \n",
      "---  ------                         --------------    -----  \n",
      " 0   id                             6000000 non-null  int64  \n",
      " 1   oper_type + oper_attr          6000000 non-null  object \n",
      " 2   index_oper                     6000000 non-null  object \n",
      " 3   type                           6000000 non-null  object \n",
      " 4   priority                       6000000 non-null  float64\n",
      " 5   is_privatecategory             6000000 non-null  object \n",
      " 6   class                          6000000 non-null  float64\n",
      " 7   is_in_yandex                   6000000 non-null  object \n",
      " 8   is_return                      6000000 non-null  object \n",
      " 9   weight                         6000000 non-null  float64\n",
      " 10  mailtype                       6000000 non-null  float64\n",
      " 11  mailctg                        6000000 non-null  float64\n",
      " 12  mailrank                       6000000 non-null  float64\n",
      " 13  directctg                      6000000 non-null  float64\n",
      " 14  transport_pay                  6000000 non-null  float64\n",
      " 15  postmark                       6000000 non-null  float64\n",
      " 16  name_mfi                       6000000 non-null  object \n",
      " 17  weight_mfi                     6000000 non-null  float64\n",
      " 18  price_mfi                      6000000 non-null  float64\n",
      " 19  dist_qty_oper_login_1          6000000 non-null  float64\n",
      " 20  total_qty_oper_login_1         6000000 non-null  float64\n",
      " 21  total_qty_oper_login_0         6000000 non-null  float64\n",
      " 22  total_qty_over_index_and_type  6000000 non-null  float64\n",
      " 23  total_qty_over_index           6000000 non-null  float64\n",
      " 24  is_wrong_sndr_name             6000000 non-null  int64  \n",
      " 25  is_wrong_rcpn_name             6000000 non-null  int64  \n",
      " 26  is_wrong_phone_number          6000000 non-null  int64  \n",
      " 27  is_wrong_address               6000000 non-null  int64  \n",
      " 28  label                          6000000 non-null  int64  \n",
      "dtypes: float64(16), int64(6), object(7)\n",
      "memory usage: 1.3+ GB\n"
     ]
    },
    {
     "data": {
      "text/plain": [
       "None"
      ]
     },
     "metadata": {},
     "output_type": "display_data"
    },
    {
     "data": {
      "text/html": [
       "<div>\n",
       "<style scoped>\n",
       "    .dataframe tbody tr th:only-of-type {\n",
       "        vertical-align: middle;\n",
       "    }\n",
       "\n",
       "    .dataframe tbody tr th {\n",
       "        vertical-align: top;\n",
       "    }\n",
       "\n",
       "    .dataframe thead th {\n",
       "        text-align: right;\n",
       "    }\n",
       "</style>\n",
       "<table border=\"1\" class=\"dataframe\">\n",
       "  <thead>\n",
       "    <tr style=\"text-align: right;\">\n",
       "      <th></th>\n",
       "      <th>id</th>\n",
       "      <th>oper_type + oper_attr</th>\n",
       "      <th>index_oper</th>\n",
       "      <th>type</th>\n",
       "      <th>priority</th>\n",
       "      <th>is_privatecategory</th>\n",
       "      <th>class</th>\n",
       "      <th>is_in_yandex</th>\n",
       "      <th>is_return</th>\n",
       "      <th>weight</th>\n",
       "      <th>...</th>\n",
       "      <th>dist_qty_oper_login_1</th>\n",
       "      <th>total_qty_oper_login_1</th>\n",
       "      <th>total_qty_oper_login_0</th>\n",
       "      <th>total_qty_over_index_and_type</th>\n",
       "      <th>total_qty_over_index</th>\n",
       "      <th>is_wrong_sndr_name</th>\n",
       "      <th>is_wrong_rcpn_name</th>\n",
       "      <th>is_wrong_phone_number</th>\n",
       "      <th>is_wrong_address</th>\n",
       "      <th>label</th>\n",
       "    </tr>\n",
       "  </thead>\n",
       "  <tbody>\n",
       "    <tr>\n",
       "      <th>0</th>\n",
       "      <td>6818780</td>\n",
       "      <td>1043_-1</td>\n",
       "      <td>628629.0</td>\n",
       "      <td>Участок</td>\n",
       "      <td>7503.0</td>\n",
       "      <td>N</td>\n",
       "      <td>0.0</td>\n",
       "      <td>Y</td>\n",
       "      <td>N</td>\n",
       "      <td>87.0</td>\n",
       "      <td>...</td>\n",
       "      <td>42.0</td>\n",
       "      <td>720176.0</td>\n",
       "      <td>58950.0</td>\n",
       "      <td>779126.0</td>\n",
       "      <td>8290896.0</td>\n",
       "      <td>0</td>\n",
       "      <td>0</td>\n",
       "      <td>0</td>\n",
       "      <td>0</td>\n",
       "      <td>0</td>\n",
       "    </tr>\n",
       "    <tr>\n",
       "      <th>1</th>\n",
       "      <td>9907176</td>\n",
       "      <td>1023_-1</td>\n",
       "      <td>102976.0</td>\n",
       "      <td>ММПО</td>\n",
       "      <td>7503.0</td>\n",
       "      <td>N</td>\n",
       "      <td>0.0</td>\n",
       "      <td>N</td>\n",
       "      <td>N</td>\n",
       "      <td>107.0</td>\n",
       "      <td>...</td>\n",
       "      <td>914.0</td>\n",
       "      <td>48856658.0</td>\n",
       "      <td>83318932.0</td>\n",
       "      <td>132175590.0</td>\n",
       "      <td>136819803.0</td>\n",
       "      <td>0</td>\n",
       "      <td>0</td>\n",
       "      <td>0</td>\n",
       "      <td>0</td>\n",
       "      <td>0</td>\n",
       "    </tr>\n",
       "    <tr>\n",
       "      <th>2</th>\n",
       "      <td>3304275</td>\n",
       "      <td>1018_-1</td>\n",
       "      <td>620962.0</td>\n",
       "      <td>Цех</td>\n",
       "      <td>7503.0</td>\n",
       "      <td>N</td>\n",
       "      <td>0.0</td>\n",
       "      <td>Y</td>\n",
       "      <td>N</td>\n",
       "      <td>50.0</td>\n",
       "      <td>...</td>\n",
       "      <td>62.0</td>\n",
       "      <td>3246292.0</td>\n",
       "      <td>3233068.0</td>\n",
       "      <td>6479360.0</td>\n",
       "      <td>52708071.0</td>\n",
       "      <td>0</td>\n",
       "      <td>1</td>\n",
       "      <td>0</td>\n",
       "      <td>0</td>\n",
       "      <td>0</td>\n",
       "    </tr>\n",
       "    <tr>\n",
       "      <th>3</th>\n",
       "      <td>9020937</td>\n",
       "      <td>1019_-1</td>\n",
       "      <td>344964.0</td>\n",
       "      <td>Цех</td>\n",
       "      <td>7503.0</td>\n",
       "      <td>N</td>\n",
       "      <td>0.0</td>\n",
       "      <td>Y</td>\n",
       "      <td>N</td>\n",
       "      <td>416.0</td>\n",
       "      <td>...</td>\n",
       "      <td>55.0</td>\n",
       "      <td>2060928.0</td>\n",
       "      <td>653280.0</td>\n",
       "      <td>2714208.0</td>\n",
       "      <td>19562334.0</td>\n",
       "      <td>0</td>\n",
       "      <td>0</td>\n",
       "      <td>0</td>\n",
       "      <td>0</td>\n",
       "      <td>0</td>\n",
       "    </tr>\n",
       "    <tr>\n",
       "      <th>4</th>\n",
       "      <td>3082311</td>\n",
       "      <td>1020_-1</td>\n",
       "      <td>629819.0</td>\n",
       "      <td>Участок</td>\n",
       "      <td>7503.0</td>\n",
       "      <td>N</td>\n",
       "      <td>0.0</td>\n",
       "      <td>Y</td>\n",
       "      <td>N</td>\n",
       "      <td>795.0</td>\n",
       "      <td>...</td>\n",
       "      <td>16.0</td>\n",
       "      <td>316919.0</td>\n",
       "      <td>27911.0</td>\n",
       "      <td>344830.0</td>\n",
       "      <td>4719186.0</td>\n",
       "      <td>0</td>\n",
       "      <td>0</td>\n",
       "      <td>0</td>\n",
       "      <td>0</td>\n",
       "      <td>0</td>\n",
       "    </tr>\n",
       "  </tbody>\n",
       "</table>\n",
       "<p>5 rows × 29 columns</p>\n",
       "</div>"
      ],
      "text/plain": [
       "        id oper_type + oper_attr index_oper     type  priority  \\\n",
       "0  6818780               1043_-1   628629.0  Участок    7503.0   \n",
       "1  9907176               1023_-1   102976.0     ММПО    7503.0   \n",
       "2  3304275               1018_-1   620962.0      Цех    7503.0   \n",
       "3  9020937               1019_-1   344964.0      Цех    7503.0   \n",
       "4  3082311               1020_-1   629819.0  Участок    7503.0   \n",
       "\n",
       "  is_privatecategory  class is_in_yandex is_return  weight  ...  \\\n",
       "0                  N    0.0            Y         N    87.0  ...   \n",
       "1                  N    0.0            N         N   107.0  ...   \n",
       "2                  N    0.0            Y         N    50.0  ...   \n",
       "3                  N    0.0            Y         N   416.0  ...   \n",
       "4                  N    0.0            Y         N   795.0  ...   \n",
       "\n",
       "   dist_qty_oper_login_1  total_qty_oper_login_1  total_qty_oper_login_0  \\\n",
       "0                   42.0                720176.0                 58950.0   \n",
       "1                  914.0              48856658.0              83318932.0   \n",
       "2                   62.0               3246292.0               3233068.0   \n",
       "3                   55.0               2060928.0                653280.0   \n",
       "4                   16.0                316919.0                 27911.0   \n",
       "\n",
       "   total_qty_over_index_and_type  total_qty_over_index  is_wrong_sndr_name  \\\n",
       "0                       779126.0             8290896.0                   0   \n",
       "1                    132175590.0           136819803.0                   0   \n",
       "2                      6479360.0            52708071.0                   0   \n",
       "3                      2714208.0            19562334.0                   0   \n",
       "4                       344830.0             4719186.0                   0   \n",
       "\n",
       "  is_wrong_rcpn_name  is_wrong_phone_number  is_wrong_address  label  \n",
       "0                  0                      0                 0      0  \n",
       "1                  0                      0                 0      0  \n",
       "2                  1                      0                 0      0  \n",
       "3                  0                      0                 0      0  \n",
       "4                  0                      0                 0      0  \n",
       "\n",
       "[5 rows x 29 columns]"
      ]
     },
     "metadata": {},
     "output_type": "display_data"
    }
   ],
   "source": [
    "df_info(df_train)"
   ]
  },
  {
   "cell_type": "code",
   "execution_count": 13,
   "id": "f37619a9",
   "metadata": {},
   "outputs": [
    {
     "name": "stdout",
     "output_type": "stream",
     "text": [
      "<class 'pandas.core.frame.DataFrame'>\n",
      "RangeIndex: 4000000 entries, 0 to 3999999\n",
      "Data columns (total 28 columns):\n",
      " #   Column                         Non-Null Count    Dtype  \n",
      "---  ------                         --------------    -----  \n",
      " 0   id                             4000000 non-null  int64  \n",
      " 1   oper_type + oper_attr          4000000 non-null  object \n",
      " 2   index_oper                     4000000 non-null  object \n",
      " 3   type                           4000000 non-null  object \n",
      " 4   priority                       4000000 non-null  float64\n",
      " 5   is_privatecategory             4000000 non-null  object \n",
      " 6   class                          4000000 non-null  float64\n",
      " 7   is_in_yandex                   4000000 non-null  object \n",
      " 8   is_return                      4000000 non-null  object \n",
      " 9   weight                         4000000 non-null  float64\n",
      " 10  mailtype                       4000000 non-null  float64\n",
      " 11  mailctg                        4000000 non-null  float64\n",
      " 12  mailrank                       4000000 non-null  float64\n",
      " 13  directctg                      4000000 non-null  float64\n",
      " 14  transport_pay                  4000000 non-null  float64\n",
      " 15  postmark                       4000000 non-null  float64\n",
      " 16  name_mfi                       4000000 non-null  object \n",
      " 17  weight_mfi                     4000000 non-null  float64\n",
      " 18  price_mfi                      4000000 non-null  float64\n",
      " 19  dist_qty_oper_login_1          4000000 non-null  float64\n",
      " 20  total_qty_oper_login_1         4000000 non-null  float64\n",
      " 21  total_qty_oper_login_0         4000000 non-null  float64\n",
      " 22  total_qty_over_index_and_type  4000000 non-null  float64\n",
      " 23  total_qty_over_index           4000000 non-null  float64\n",
      " 24  is_wrong_sndr_name             4000000 non-null  int64  \n",
      " 25  is_wrong_rcpn_name             4000000 non-null  int64  \n",
      " 26  is_wrong_phone_number          4000000 non-null  int64  \n",
      " 27  is_wrong_address               4000000 non-null  int64  \n",
      "dtypes: float64(16), int64(5), object(7)\n",
      "memory usage: 854.5+ MB\n"
     ]
    },
    {
     "data": {
      "text/plain": [
       "None"
      ]
     },
     "metadata": {},
     "output_type": "display_data"
    },
    {
     "data": {
      "text/html": [
       "<div>\n",
       "<style scoped>\n",
       "    .dataframe tbody tr th:only-of-type {\n",
       "        vertical-align: middle;\n",
       "    }\n",
       "\n",
       "    .dataframe tbody tr th {\n",
       "        vertical-align: top;\n",
       "    }\n",
       "\n",
       "    .dataframe thead th {\n",
       "        text-align: right;\n",
       "    }\n",
       "</style>\n",
       "<table border=\"1\" class=\"dataframe\">\n",
       "  <thead>\n",
       "    <tr style=\"text-align: right;\">\n",
       "      <th></th>\n",
       "      <th>id</th>\n",
       "      <th>oper_type + oper_attr</th>\n",
       "      <th>index_oper</th>\n",
       "      <th>type</th>\n",
       "      <th>priority</th>\n",
       "      <th>is_privatecategory</th>\n",
       "      <th>class</th>\n",
       "      <th>is_in_yandex</th>\n",
       "      <th>is_return</th>\n",
       "      <th>weight</th>\n",
       "      <th>...</th>\n",
       "      <th>price_mfi</th>\n",
       "      <th>dist_qty_oper_login_1</th>\n",
       "      <th>total_qty_oper_login_1</th>\n",
       "      <th>total_qty_oper_login_0</th>\n",
       "      <th>total_qty_over_index_and_type</th>\n",
       "      <th>total_qty_over_index</th>\n",
       "      <th>is_wrong_sndr_name</th>\n",
       "      <th>is_wrong_rcpn_name</th>\n",
       "      <th>is_wrong_phone_number</th>\n",
       "      <th>is_wrong_address</th>\n",
       "    </tr>\n",
       "  </thead>\n",
       "  <tbody>\n",
       "    <tr>\n",
       "      <th>0</th>\n",
       "      <td>7815282</td>\n",
       "      <td>8_13</td>\n",
       "      <td>102976.0</td>\n",
       "      <td>ММПО</td>\n",
       "      <td>7503.0</td>\n",
       "      <td>N</td>\n",
       "      <td>0.0</td>\n",
       "      <td>N</td>\n",
       "      <td>N</td>\n",
       "      <td>85.0</td>\n",
       "      <td>...</td>\n",
       "      <td>489.0</td>\n",
       "      <td>972.0</td>\n",
       "      <td>68766046.0</td>\n",
       "      <td>91123247.0</td>\n",
       "      <td>159889293.0</td>\n",
       "      <td>164927295.0</td>\n",
       "      <td>0</td>\n",
       "      <td>0</td>\n",
       "      <td>0</td>\n",
       "      <td>0</td>\n",
       "    </tr>\n",
       "    <tr>\n",
       "      <th>1</th>\n",
       "      <td>8443555</td>\n",
       "      <td>8_2</td>\n",
       "      <td>238753.0</td>\n",
       "      <td>ГОПС</td>\n",
       "      <td>7503.0</td>\n",
       "      <td>N</td>\n",
       "      <td>4.0</td>\n",
       "      <td>Y</td>\n",
       "      <td>N</td>\n",
       "      <td>21.0</td>\n",
       "      <td>...</td>\n",
       "      <td>186.0</td>\n",
       "      <td>2.0</td>\n",
       "      <td>2895.0</td>\n",
       "      <td>1545.0</td>\n",
       "      <td>4440.0</td>\n",
       "      <td>20623.0</td>\n",
       "      <td>0</td>\n",
       "      <td>1</td>\n",
       "      <td>1</td>\n",
       "      <td>0</td>\n",
       "    </tr>\n",
       "    <tr>\n",
       "      <th>2</th>\n",
       "      <td>6352559</td>\n",
       "      <td>1020_-1</td>\n",
       "      <td>618254.0</td>\n",
       "      <td>ГОПС</td>\n",
       "      <td>7503.0</td>\n",
       "      <td>N</td>\n",
       "      <td>4.0</td>\n",
       "      <td>Y</td>\n",
       "      <td>N</td>\n",
       "      <td>388.0</td>\n",
       "      <td>...</td>\n",
       "      <td>500.0</td>\n",
       "      <td>3.0</td>\n",
       "      <td>2751.0</td>\n",
       "      <td>993.0</td>\n",
       "      <td>3744.0</td>\n",
       "      <td>37817.0</td>\n",
       "      <td>0</td>\n",
       "      <td>0</td>\n",
       "      <td>0</td>\n",
       "      <td>0</td>\n",
       "    </tr>\n",
       "    <tr>\n",
       "      <th>3</th>\n",
       "      <td>4921420</td>\n",
       "      <td>1016_-1</td>\n",
       "      <td>102968.0</td>\n",
       "      <td>ТИ</td>\n",
       "      <td>7503.0</td>\n",
       "      <td>N</td>\n",
       "      <td>0.0</td>\n",
       "      <td>N</td>\n",
       "      <td>N</td>\n",
       "      <td>1203.0</td>\n",
       "      <td>...</td>\n",
       "      <td>0.0</td>\n",
       "      <td>69.0</td>\n",
       "      <td>9379609.0</td>\n",
       "      <td>2267333.0</td>\n",
       "      <td>11646942.0</td>\n",
       "      <td>11759329.0</td>\n",
       "      <td>0</td>\n",
       "      <td>1</td>\n",
       "      <td>0</td>\n",
       "      <td>0</td>\n",
       "    </tr>\n",
       "    <tr>\n",
       "      <th>4</th>\n",
       "      <td>1420440</td>\n",
       "      <td>1018_-1</td>\n",
       "      <td>102971.0</td>\n",
       "      <td>Цех</td>\n",
       "      <td>7506.0</td>\n",
       "      <td>N</td>\n",
       "      <td>0.0</td>\n",
       "      <td>N</td>\n",
       "      <td>N</td>\n",
       "      <td>956.0</td>\n",
       "      <td>...</td>\n",
       "      <td>1267.0</td>\n",
       "      <td>181.0</td>\n",
       "      <td>76138189.0</td>\n",
       "      <td>8747.0</td>\n",
       "      <td>76146936.0</td>\n",
       "      <td>84110459.0</td>\n",
       "      <td>0</td>\n",
       "      <td>1</td>\n",
       "      <td>0</td>\n",
       "      <td>0</td>\n",
       "    </tr>\n",
       "  </tbody>\n",
       "</table>\n",
       "<p>5 rows × 28 columns</p>\n",
       "</div>"
      ],
      "text/plain": [
       "        id oper_type + oper_attr index_oper  type  priority  \\\n",
       "0  7815282                  8_13   102976.0  ММПО    7503.0   \n",
       "1  8443555                   8_2   238753.0  ГОПС    7503.0   \n",
       "2  6352559               1020_-1   618254.0  ГОПС    7503.0   \n",
       "3  4921420               1016_-1   102968.0    ТИ    7503.0   \n",
       "4  1420440               1018_-1   102971.0   Цех    7506.0   \n",
       "\n",
       "  is_privatecategory  class is_in_yandex is_return  weight  ...  price_mfi  \\\n",
       "0                  N    0.0            N         N    85.0  ...      489.0   \n",
       "1                  N    4.0            Y         N    21.0  ...      186.0   \n",
       "2                  N    4.0            Y         N   388.0  ...      500.0   \n",
       "3                  N    0.0            N         N  1203.0  ...        0.0   \n",
       "4                  N    0.0            N         N   956.0  ...     1267.0   \n",
       "\n",
       "   dist_qty_oper_login_1  total_qty_oper_login_1  total_qty_oper_login_0  \\\n",
       "0                  972.0              68766046.0              91123247.0   \n",
       "1                    2.0                  2895.0                  1545.0   \n",
       "2                    3.0                  2751.0                   993.0   \n",
       "3                   69.0               9379609.0               2267333.0   \n",
       "4                  181.0              76138189.0                  8747.0   \n",
       "\n",
       "   total_qty_over_index_and_type  total_qty_over_index is_wrong_sndr_name  \\\n",
       "0                    159889293.0           164927295.0                  0   \n",
       "1                         4440.0               20623.0                  0   \n",
       "2                         3744.0               37817.0                  0   \n",
       "3                     11646942.0            11759329.0                  0   \n",
       "4                     76146936.0            84110459.0                  0   \n",
       "\n",
       "   is_wrong_rcpn_name  is_wrong_phone_number  is_wrong_address  \n",
       "0                   0                      0                 0  \n",
       "1                   1                      1                 0  \n",
       "2                   0                      0                 0  \n",
       "3                   1                      0                 0  \n",
       "4                   1                      0                 0  \n",
       "\n",
       "[5 rows x 28 columns]"
      ]
     },
     "metadata": {},
     "output_type": "display_data"
    }
   ],
   "source": [
    "df_info(df_test)"
   ]
  },
  {
   "cell_type": "code",
   "execution_count": 14,
   "id": "5fac6c5c",
   "metadata": {},
   "outputs": [
    {
     "name": "stdout",
     "output_type": "stream",
     "text": [
      "<class 'pandas.core.frame.DataFrame'>\n",
      "RangeIndex: 4000000 entries, 0 to 3999999\n",
      "Data columns (total 2 columns):\n",
      " #   Column  Non-Null Count    Dtype\n",
      "---  ------  --------------    -----\n",
      " 0   id      4000000 non-null  int64\n",
      " 1   label   4000000 non-null  int64\n",
      "dtypes: int64(2)\n",
      "memory usage: 61.0 MB\n"
     ]
    },
    {
     "data": {
      "text/plain": [
       "None"
      ]
     },
     "metadata": {},
     "output_type": "display_data"
    },
    {
     "data": {
      "text/html": [
       "<div>\n",
       "<style scoped>\n",
       "    .dataframe tbody tr th:only-of-type {\n",
       "        vertical-align: middle;\n",
       "    }\n",
       "\n",
       "    .dataframe tbody tr th {\n",
       "        vertical-align: top;\n",
       "    }\n",
       "\n",
       "    .dataframe thead th {\n",
       "        text-align: right;\n",
       "    }\n",
       "</style>\n",
       "<table border=\"1\" class=\"dataframe\">\n",
       "  <thead>\n",
       "    <tr style=\"text-align: right;\">\n",
       "      <th></th>\n",
       "      <th>id</th>\n",
       "      <th>label</th>\n",
       "    </tr>\n",
       "  </thead>\n",
       "  <tbody>\n",
       "    <tr>\n",
       "      <th>0</th>\n",
       "      <td>7815282</td>\n",
       "      <td>0</td>\n",
       "    </tr>\n",
       "    <tr>\n",
       "      <th>1</th>\n",
       "      <td>8443555</td>\n",
       "      <td>0</td>\n",
       "    </tr>\n",
       "    <tr>\n",
       "      <th>2</th>\n",
       "      <td>6352559</td>\n",
       "      <td>0</td>\n",
       "    </tr>\n",
       "    <tr>\n",
       "      <th>3</th>\n",
       "      <td>4921420</td>\n",
       "      <td>0</td>\n",
       "    </tr>\n",
       "    <tr>\n",
       "      <th>4</th>\n",
       "      <td>1420440</td>\n",
       "      <td>0</td>\n",
       "    </tr>\n",
       "  </tbody>\n",
       "</table>\n",
       "</div>"
      ],
      "text/plain": [
       "        id  label\n",
       "0  7815282      0\n",
       "1  8443555      0\n",
       "2  6352559      0\n",
       "3  4921420      0\n",
       "4  1420440      0"
      ]
     },
     "metadata": {},
     "output_type": "display_data"
    }
   ],
   "source": [
    "df_info(df_sample_solution)"
   ]
  },
  {
   "cell_type": "markdown",
   "id": "e71c82ba",
   "metadata": {},
   "source": [
    "В данных нет пропусков. По остальному пока не ясно."
   ]
  },
  {
   "cell_type": "markdown",
   "id": "52dc73ef",
   "metadata": {},
   "source": [
    "### Исследуем баланс классов"
   ]
  },
  {
   "cell_type": "code",
   "execution_count": 15,
   "id": "0ff909c0",
   "metadata": {},
   "outputs": [
    {
     "data": {
      "text/plain": [
       "0    0.971503\n",
       "1    0.028497\n",
       "Name: label, dtype: float64"
      ]
     },
     "execution_count": 15,
     "metadata": {},
     "output_type": "execute_result"
    }
   ],
   "source": [
    "# распределение классов по целевому признаку\n",
    "df_train['label'].value_counts(normalize='bool')"
   ]
  },
  {
   "cell_type": "code",
   "execution_count": 16,
   "id": "20a4ac73",
   "metadata": {},
   "outputs": [
    {
     "data": {
      "image/png": "[encoded data removed]",
      "text/plain": [
       "<Figure size 360x288 with 1 Axes>"
      ]
     },
     "metadata": {
      "needs_background": "light"
     },
     "output_type": "display_data"
    }
   ],
   "source": [
    "plt.figure(figsize=(5,4))\n",
    "sns.countplot(data=df_train, x=\"label\")\n",
    "plt.title('Баланс классов в тренировочном датасете')\n",
    "plt.xlabel('blocked')\n",
    "plt.ylabel('count')\n",
    "plt.show()"
   ]
  },
  {
   "cell_type": "markdown",
   "id": "945968c2",
   "metadata": {},
   "source": [
    "Классы несбалансированы по целевому признаку. 3% посылок потеряны."
   ]
  },
  {
   "cell_type": "markdown",
   "id": "4dd3fdf8",
   "metadata": {},
   "source": [
    "### Исследовательский анализ данных"
   ]
  },
  {
   "cell_type": "code",
   "execution_count": 17,
   "id": "aa86dbdd",
   "metadata": {},
   "outputs": [
    {
     "name": "stdout",
     "output_type": "stream",
     "text": [
      "<class 'pandas.core.frame.DataFrame'>\n",
      "RangeIndex: 6000000 entries, 0 to 5999999\n",
      "Data columns (total 29 columns):\n",
      " #   Column                         Non-Null Count    Dtype  \n",
      "---  ------                         --------------    -----  \n",
      " 0   id                             6000000 non-null  int64  \n",
      " 1   oper_type + oper_attr          6000000 non-null  object \n",
      " 2   index_oper                     6000000 non-null  object \n",
      " 3   type                           6000000 non-null  object \n",
      " 4   priority                       6000000 non-null  float64\n",
      " 5   is_privatecategory             6000000 non-null  object \n",
      " 6   class                          6000000 non-null  float64\n",
      " 7   is_in_yandex                   6000000 non-null  object \n",
      " 8   is_return                      6000000 non-null  object \n",
      " 9   weight                         6000000 non-null  float64\n",
      " 10  mailtype                       6000000 non-null  float64\n",
      " 11  mailctg                        6000000 non-null  float64\n",
      " 12  mailrank                       6000000 non-null  float64\n",
      " 13  directctg                      6000000 non-null  float64\n",
      " 14  transport_pay                  6000000 non-null  float64\n",
      " 15  postmark                       6000000 non-null  float64\n",
      " 16  name_mfi                       6000000 non-null  object \n",
      " 17  weight_mfi                     6000000 non-null  float64\n",
      " 18  price_mfi                      6000000 non-null  float64\n",
      " 19  dist_qty_oper_login_1          6000000 non-null  float64\n",
      " 20  total_qty_oper_login_1         6000000 non-null  float64\n",
      " 21  total_qty_oper_login_0         6000000 non-null  float64\n",
      " 22  total_qty_over_index_and_type  6000000 non-null  float64\n",
      " 23  total_qty_over_index           6000000 non-null  float64\n",
      " 24  is_wrong_sndr_name             6000000 non-null  int64  \n",
      " 25  is_wrong_rcpn_name             6000000 non-null  int64  \n",
      " 26  is_wrong_phone_number          6000000 non-null  int64  \n",
      " 27  is_wrong_address               6000000 non-null  int64  \n",
      " 28  label                          6000000 non-null  int64  \n",
      "dtypes: float64(16), int64(6), object(7)\n",
      "memory usage: 1.3+ GB\n"
     ]
    },
    {
     "data": {
      "text/plain": [
       "None"
      ]
     },
     "metadata": {},
     "output_type": "display_data"
    },
    {
     "data": {
      "text/html": [
       "<div>\n",
       "<style scoped>\n",
       "    .dataframe tbody tr th:only-of-type {\n",
       "        vertical-align: middle;\n",
       "    }\n",
       "\n",
       "    .dataframe tbody tr th {\n",
       "        vertical-align: top;\n",
       "    }\n",
       "\n",
       "    .dataframe thead th {\n",
       "        text-align: right;\n",
       "    }\n",
       "</style>\n",
       "<table border=\"1\" class=\"dataframe\">\n",
       "  <thead>\n",
       "    <tr style=\"text-align: right;\">\n",
       "      <th></th>\n",
       "      <th>id</th>\n",
       "      <th>oper_type + oper_attr</th>\n",
       "      <th>index_oper</th>\n",
       "      <th>type</th>\n",
       "      <th>priority</th>\n",
       "      <th>is_privatecategory</th>\n",
       "      <th>class</th>\n",
       "      <th>is_in_yandex</th>\n",
       "      <th>is_return</th>\n",
       "      <th>weight</th>\n",
       "      <th>...</th>\n",
       "      <th>dist_qty_oper_login_1</th>\n",
       "      <th>total_qty_oper_login_1</th>\n",
       "      <th>total_qty_oper_login_0</th>\n",
       "      <th>total_qty_over_index_and_type</th>\n",
       "      <th>total_qty_over_index</th>\n",
       "      <th>is_wrong_sndr_name</th>\n",
       "      <th>is_wrong_rcpn_name</th>\n",
       "      <th>is_wrong_phone_number</th>\n",
       "      <th>is_wrong_address</th>\n",
       "      <th>label</th>\n",
       "    </tr>\n",
       "  </thead>\n",
       "  <tbody>\n",
       "    <tr>\n",
       "      <th>0</th>\n",
       "      <td>6818780</td>\n",
       "      <td>1043_-1</td>\n",
       "      <td>628629.0</td>\n",
       "      <td>Участок</td>\n",
       "      <td>7503.0</td>\n",
       "      <td>N</td>\n",
       "      <td>0.0</td>\n",
       "      <td>Y</td>\n",
       "      <td>N</td>\n",
       "      <td>87.0</td>\n",
       "      <td>...</td>\n",
       "      <td>42.0</td>\n",
       "      <td>720176.0</td>\n",
       "      <td>58950.0</td>\n",
       "      <td>779126.0</td>\n",
       "      <td>8290896.0</td>\n",
       "      <td>0</td>\n",
       "      <td>0</td>\n",
       "      <td>0</td>\n",
       "      <td>0</td>\n",
       "      <td>0</td>\n",
       "    </tr>\n",
       "    <tr>\n",
       "      <th>1</th>\n",
       "      <td>9907176</td>\n",
       "      <td>1023_-1</td>\n",
       "      <td>102976.0</td>\n",
       "      <td>ММПО</td>\n",
       "      <td>7503.0</td>\n",
       "      <td>N</td>\n",
       "      <td>0.0</td>\n",
       "      <td>N</td>\n",
       "      <td>N</td>\n",
       "      <td>107.0</td>\n",
       "      <td>...</td>\n",
       "      <td>914.0</td>\n",
       "      <td>48856658.0</td>\n",
       "      <td>83318932.0</td>\n",
       "      <td>132175590.0</td>\n",
       "      <td>136819803.0</td>\n",
       "      <td>0</td>\n",
       "      <td>0</td>\n",
       "      <td>0</td>\n",
       "      <td>0</td>\n",
       "      <td>0</td>\n",
       "    </tr>\n",
       "    <tr>\n",
       "      <th>2</th>\n",
       "      <td>3304275</td>\n",
       "      <td>1018_-1</td>\n",
       "      <td>620962.0</td>\n",
       "      <td>Цех</td>\n",
       "      <td>7503.0</td>\n",
       "      <td>N</td>\n",
       "      <td>0.0</td>\n",
       "      <td>Y</td>\n",
       "      <td>N</td>\n",
       "      <td>50.0</td>\n",
       "      <td>...</td>\n",
       "      <td>62.0</td>\n",
       "      <td>3246292.0</td>\n",
       "      <td>3233068.0</td>\n",
       "      <td>6479360.0</td>\n",
       "      <td>52708071.0</td>\n",
       "      <td>0</td>\n",
       "      <td>1</td>\n",
       "      <td>0</td>\n",
       "      <td>0</td>\n",
       "      <td>0</td>\n",
       "    </tr>\n",
       "    <tr>\n",
       "      <th>3</th>\n",
       "      <td>9020937</td>\n",
       "      <td>1019_-1</td>\n",
       "      <td>344964.0</td>\n",
       "      <td>Цех</td>\n",
       "      <td>7503.0</td>\n",
       "      <td>N</td>\n",
       "      <td>0.0</td>\n",
       "      <td>Y</td>\n",
       "      <td>N</td>\n",
       "      <td>416.0</td>\n",
       "      <td>...</td>\n",
       "      <td>55.0</td>\n",
       "      <td>2060928.0</td>\n",
       "      <td>653280.0</td>\n",
       "      <td>2714208.0</td>\n",
       "      <td>19562334.0</td>\n",
       "      <td>0</td>\n",
       "      <td>0</td>\n",
       "      <td>0</td>\n",
       "      <td>0</td>\n",
       "      <td>0</td>\n",
       "    </tr>\n",
       "    <tr>\n",
       "      <th>4</th>\n",
       "      <td>3082311</td>\n",
       "      <td>1020_-1</td>\n",
       "      <td>629819.0</td>\n",
       "      <td>Участок</td>\n",
       "      <td>7503.0</td>\n",
       "      <td>N</td>\n",
       "      <td>0.0</td>\n",
       "      <td>Y</td>\n",
       "      <td>N</td>\n",
       "      <td>795.0</td>\n",
       "      <td>...</td>\n",
       "      <td>16.0</td>\n",
       "      <td>316919.0</td>\n",
       "      <td>27911.0</td>\n",
       "      <td>344830.0</td>\n",
       "      <td>4719186.0</td>\n",
       "      <td>0</td>\n",
       "      <td>0</td>\n",
       "      <td>0</td>\n",
       "      <td>0</td>\n",
       "      <td>0</td>\n",
       "    </tr>\n",
       "  </tbody>\n",
       "</table>\n",
       "<p>5 rows × 29 columns</p>\n",
       "</div>"
      ],
      "text/plain": [
       "        id oper_type + oper_attr index_oper     type  priority  \\\n",
       "0  6818780               1043_-1   628629.0  Участок    7503.0   \n",
       "1  9907176               1023_-1   102976.0     ММПО    7503.0   \n",
       "2  3304275               1018_-1   620962.0      Цех    7503.0   \n",
       "3  9020937               1019_-1   344964.0      Цех    7503.0   \n",
       "4  3082311               1020_-1   629819.0  Участок    7503.0   \n",
       "\n",
       "  is_privatecategory  class is_in_yandex is_return  weight  ...  \\\n",
       "0                  N    0.0            Y         N    87.0  ...   \n",
       "1                  N    0.0            N         N   107.0  ...   \n",
       "2                  N    0.0            Y         N    50.0  ...   \n",
       "3                  N    0.0            Y         N   416.0  ...   \n",
       "4                  N    0.0            Y         N   795.0  ...   \n",
       "\n",
       "   dist_qty_oper_login_1  total_qty_oper_login_1  total_qty_oper_login_0  \\\n",
       "0                   42.0                720176.0                 58950.0   \n",
       "1                  914.0              48856658.0              83318932.0   \n",
       "2                   62.0               3246292.0               3233068.0   \n",
       "3                   55.0               2060928.0                653280.0   \n",
       "4                   16.0                316919.0                 27911.0   \n",
       "\n",
       "   total_qty_over_index_and_type  total_qty_over_index  is_wrong_sndr_name  \\\n",
       "0                       779126.0             8290896.0                   0   \n",
       "1                    132175590.0           136819803.0                   0   \n",
       "2                      6479360.0            52708071.0                   0   \n",
       "3                      2714208.0            19562334.0                   0   \n",
       "4                       344830.0             4719186.0                   0   \n",
       "\n",
       "  is_wrong_rcpn_name  is_wrong_phone_number  is_wrong_address  label  \n",
       "0                  0                      0                 0      0  \n",
       "1                  0                      0                 0      0  \n",
       "2                  1                      0                 0      0  \n",
       "3                  0                      0                 0      0  \n",
       "4                  0                      0                 0      0  \n",
       "\n",
       "[5 rows x 29 columns]"
      ]
     },
     "metadata": {},
     "output_type": "display_data"
    }
   ],
   "source": [
    "df_info(df_train)"
   ]
  },
  {
   "cell_type": "markdown",
   "id": "b73597bf",
   "metadata": {},
   "source": [
    "#### Размерность"
   ]
  },
  {
   "cell_type": "code",
   "execution_count": 18,
   "id": "a5102548",
   "metadata": {},
   "outputs": [
    {
     "name": "stdout",
     "output_type": "stream",
     "text": [
      "df_train 6000000\n",
      "df_test 4000000\n"
     ]
    }
   ],
   "source": [
    "uniq('id')"
   ]
  },
  {
   "cell_type": "code",
   "execution_count": 19,
   "id": "e11e1bdb",
   "metadata": {},
   "outputs": [
    {
     "data": {
      "text/plain": [
       "4000000"
      ]
     },
     "execution_count": 19,
     "metadata": {},
     "output_type": "execute_result"
    }
   ],
   "source": [
    "df_sample_solution.id.nunique()"
   ]
  },
  {
   "cell_type": "markdown",
   "id": "af20b069",
   "metadata": {},
   "source": [
    "Каждая строка в датасетах уникальна."
   ]
  },
  {
   "cell_type": "markdown",
   "id": "8aed76c8",
   "metadata": {},
   "source": [
    "## Исследование признаков"
   ]
  },
  {
   "cell_type": "markdown",
   "id": "08db5f1a",
   "metadata": {},
   "source": [
    "#### oper_type + oper_attr Тип и атрибут операции"
   ]
  },
  {
   "cell_type": "code",
   "execution_count": 20,
   "id": "fa0f3b92",
   "metadata": {},
   "outputs": [
    {
     "name": "stdout",
     "output_type": "stream",
     "text": [
      "df_train 109\n",
      "df_test 102\n"
     ]
    }
   ],
   "source": [
    "uniq('oper_type + oper_attr')"
   ]
  },
  {
   "cell_type": "code",
   "execution_count": 21,
   "id": "b3fbce46",
   "metadata": {},
   "outputs": [
    {
     "data": {
      "image/png": "[encoded data removed]",
      "text/plain": [
       "<Figure size 1080x360 with 1 Axes>"
      ]
     },
     "metadata": {
      "needs_background": "light"
     },
     "output_type": "display_data"
    },
    {
     "data": {
      "text/plain": [
       "oper_type + oper_attr\n",
       "2_11            1\n",
       "8_21            1\n",
       "34_-1           1\n",
       "14_1002         1\n",
       "2_10            1\n",
       "            ...  \n",
       "1_-1       359402\n",
       "8_0        402877\n",
       "1019_-1    413710\n",
       "1022_-1    656597\n",
       "1020_-1    693154\n",
       "Name: id, Length: 109, dtype: int64"
      ]
     },
     "execution_count": 21,
     "metadata": {},
     "output_type": "execute_result"
    }
   ],
   "source": [
    "hist(df_train, 'oper_type + oper_attr')\n",
    "df_train.groupby(['oper_type + oper_attr'])['id'].count().sort_values()"
   ]
  },
  {
   "cell_type": "markdown",
   "id": "9fccf11a",
   "metadata": {},
   "source": [
    "#### index_oper Индекс места операции\n"
   ]
  },
  {
   "cell_type": "code",
   "execution_count": 22,
   "id": "abf58946",
   "metadata": {},
   "outputs": [
    {
     "name": "stdout",
     "output_type": "stream",
     "text": [
      "df_train 38661\n",
      "df_test 35589\n"
     ]
    }
   ],
   "source": [
    "uniq('index_oper')"
   ]
  },
  {
   "cell_type": "code",
   "execution_count": 23,
   "id": "1d04cdd7",
   "metadata": {},
   "outputs": [
    {
     "data": {
      "text/plain": [
       "38661"
      ]
     },
     "execution_count": 23,
     "metadata": {},
     "output_type": "execute_result"
    }
   ],
   "source": [
    "df_train['index_oper'].nunique()"
   ]
  },
  {
   "cell_type": "code",
   "execution_count": 24,
   "id": "a5076bfe",
   "metadata": {},
   "outputs": [
    {
     "data": {
      "text/plain": [
       "35589"
      ]
     },
     "execution_count": 24,
     "metadata": {},
     "output_type": "execute_result"
    }
   ],
   "source": [
    "df_test['index_oper'].nunique()"
   ]
  },
  {
   "cell_type": "markdown",
   "id": "898fcf39",
   "metadata": {},
   "source": [
    "Признак не показал себя полезным при тестировании моделей."
   ]
  },
  {
   "cell_type": "markdown",
   "id": "b0687620",
   "metadata": {},
   "source": [
    "#### type Обозначение типа объекта почтовой связи"
   ]
  },
  {
   "cell_type": "code",
   "execution_count": 25,
   "id": "0f1b4560",
   "metadata": {},
   "outputs": [
    {
     "name": "stdout",
     "output_type": "stream",
     "text": [
      "df_train\n",
      "Цех               2093668\n",
      "ММПО              1614974\n",
      "Участок            926631\n",
      "ГОПС               463750\n",
      "ТИ                 305490\n",
      "П                  245814\n",
      "МСЦ                223241\n",
      "СОПС                72161\n",
      "СЦ                  12469\n",
      "ОП                   9527\n",
      "МСО                  7465\n",
      "ОПП                  7190\n",
      "АОПП                 6682\n",
      "МРП                  3850\n",
      "0                    3444\n",
      "АО                   1304\n",
      "ПЕРЕДВИЖНОЕ ОС       1006\n",
      "ППС                   682\n",
      "УМСЦ                  569\n",
      "УКД                    83\n",
      "Name: type, dtype: int64\n",
      "df_test\n",
      "Цех               1395154\n",
      "ММПО              1075996\n",
      "Участок            619027\n",
      "ГОПС               308878\n",
      "ТИ                 203015\n",
      "П                  164467\n",
      "МСЦ                149374\n",
      "СОПС                48117\n",
      "СЦ                   8310\n",
      "ОП                   6441\n",
      "МСО                  5117\n",
      "АОПП                 4532\n",
      "ОПП                  4463\n",
      "МРП                  2520\n",
      "0                    2249\n",
      "АО                    807\n",
      "ПЕРЕДВИЖНОЕ ОС        605\n",
      "УМСЦ                  433\n",
      "ППС                   430\n",
      "УКД                    65\n",
      "Name: type, dtype: int64\n"
     ]
    }
   ],
   "source": [
    "val('type')"
   ]
  },
  {
   "cell_type": "code",
   "execution_count": 26,
   "id": "6a94d092",
   "metadata": {},
   "outputs": [
    {
     "data": {
      "image/png": "[encoded data removed]",
      "text/plain": [
       "<Figure size 1080x360 with 1 Axes>"
      ]
     },
     "metadata": {
      "needs_background": "light"
     },
     "output_type": "display_data"
    },
    {
     "data": {
      "text/html": [
       "<div>\n",
       "<style scoped>\n",
       "    .dataframe tbody tr th:only-of-type {\n",
       "        vertical-align: middle;\n",
       "    }\n",
       "\n",
       "    .dataframe tbody tr th {\n",
       "        vertical-align: top;\n",
       "    }\n",
       "\n",
       "    .dataframe thead th {\n",
       "        text-align: right;\n",
       "    }\n",
       "</style>\n",
       "<table border=\"1\" class=\"dataframe\">\n",
       "  <thead>\n",
       "    <tr style=\"text-align: right;\">\n",
       "      <th>label</th>\n",
       "      <th>0</th>\n",
       "      <th>1</th>\n",
       "    </tr>\n",
       "    <tr>\n",
       "      <th>type</th>\n",
       "      <th></th>\n",
       "      <th></th>\n",
       "    </tr>\n",
       "  </thead>\n",
       "  <tbody>\n",
       "    <tr>\n",
       "      <th>0</th>\n",
       "      <td>3381.0</td>\n",
       "      <td>63.0</td>\n",
       "    </tr>\n",
       "    <tr>\n",
       "      <th>АО</th>\n",
       "      <td>980.0</td>\n",
       "      <td>324.0</td>\n",
       "    </tr>\n",
       "    <tr>\n",
       "      <th>АОПП</th>\n",
       "      <td>6682.0</td>\n",
       "      <td>NaN</td>\n",
       "    </tr>\n",
       "    <tr>\n",
       "      <th>ГОПС</th>\n",
       "      <td>414892.0</td>\n",
       "      <td>48858.0</td>\n",
       "    </tr>\n",
       "    <tr>\n",
       "      <th>ММПО</th>\n",
       "      <td>1505634.0</td>\n",
       "      <td>109340.0</td>\n",
       "    </tr>\n",
       "    <tr>\n",
       "      <th>МРП</th>\n",
       "      <td>3850.0</td>\n",
       "      <td>NaN</td>\n",
       "    </tr>\n",
       "    <tr>\n",
       "      <th>МСО</th>\n",
       "      <td>7462.0</td>\n",
       "      <td>3.0</td>\n",
       "    </tr>\n",
       "    <tr>\n",
       "      <th>МСЦ</th>\n",
       "      <td>223208.0</td>\n",
       "      <td>33.0</td>\n",
       "    </tr>\n",
       "    <tr>\n",
       "      <th>ОП</th>\n",
       "      <td>9526.0</td>\n",
       "      <td>1.0</td>\n",
       "    </tr>\n",
       "    <tr>\n",
       "      <th>ОПП</th>\n",
       "      <td>7190.0</td>\n",
       "      <td>NaN</td>\n",
       "    </tr>\n",
       "    <tr>\n",
       "      <th>П</th>\n",
       "      <td>245706.0</td>\n",
       "      <td>108.0</td>\n",
       "    </tr>\n",
       "    <tr>\n",
       "      <th>ПЕРЕДВИЖНОЕ ОС</th>\n",
       "      <td>869.0</td>\n",
       "      <td>137.0</td>\n",
       "    </tr>\n",
       "    <tr>\n",
       "      <th>ППС</th>\n",
       "      <td>619.0</td>\n",
       "      <td>63.0</td>\n",
       "    </tr>\n",
       "    <tr>\n",
       "      <th>СОПС</th>\n",
       "      <td>63029.0</td>\n",
       "      <td>9132.0</td>\n",
       "    </tr>\n",
       "    <tr>\n",
       "      <th>СЦ</th>\n",
       "      <td>12465.0</td>\n",
       "      <td>4.0</td>\n",
       "    </tr>\n",
       "    <tr>\n",
       "      <th>ТИ</th>\n",
       "      <td>305490.0</td>\n",
       "      <td>NaN</td>\n",
       "    </tr>\n",
       "    <tr>\n",
       "      <th>УКД</th>\n",
       "      <td>80.0</td>\n",
       "      <td>3.0</td>\n",
       "    </tr>\n",
       "    <tr>\n",
       "      <th>УМСЦ</th>\n",
       "      <td>569.0</td>\n",
       "      <td>NaN</td>\n",
       "    </tr>\n",
       "    <tr>\n",
       "      <th>Участок</th>\n",
       "      <td>925725.0</td>\n",
       "      <td>906.0</td>\n",
       "    </tr>\n",
       "    <tr>\n",
       "      <th>Цех</th>\n",
       "      <td>2091663.0</td>\n",
       "      <td>2005.0</td>\n",
       "    </tr>\n",
       "  </tbody>\n",
       "</table>\n",
       "</div>"
      ],
      "text/plain": [
       "label                   0         1\n",
       "type                               \n",
       "0                  3381.0      63.0\n",
       "АО                  980.0     324.0\n",
       "АОПП               6682.0       NaN\n",
       "ГОПС             414892.0   48858.0\n",
       "ММПО            1505634.0  109340.0\n",
       "МРП                3850.0       NaN\n",
       "МСО                7462.0       3.0\n",
       "МСЦ              223208.0      33.0\n",
       "ОП                 9526.0       1.0\n",
       "ОПП                7190.0       NaN\n",
       "П                245706.0     108.0\n",
       "ПЕРЕДВИЖНОЕ ОС      869.0     137.0\n",
       "ППС                 619.0      63.0\n",
       "СОПС              63029.0    9132.0\n",
       "СЦ                12465.0       4.0\n",
       "ТИ               305490.0       NaN\n",
       "УКД                  80.0       3.0\n",
       "УМСЦ                569.0       NaN\n",
       "Участок          925725.0     906.0\n",
       "Цех             2091663.0    2005.0"
      ]
     },
     "execution_count": 26,
     "metadata": {},
     "output_type": "execute_result"
    }
   ],
   "source": [
    "df_countplot(df_train, 'type', 'label')\n",
    "df_train.pivot_table(index='type', columns='label', values='id', aggfunc='count')"
   ]
  },
  {
   "cell_type": "markdown",
   "id": "f18a1223",
   "metadata": {},
   "source": [
    "#### priority Приоритет объекта\n"
   ]
  },
  {
   "cell_type": "code",
   "execution_count": 27,
   "id": "09accc28",
   "metadata": {},
   "outputs": [
    {
     "name": "stdout",
     "output_type": "stream",
     "text": [
      "df_train 4\n",
      "df_test 4\n"
     ]
    }
   ],
   "source": [
    "uniq('priority')"
   ]
  },
  {
   "cell_type": "code",
   "execution_count": 28,
   "id": "d3061dff",
   "metadata": {},
   "outputs": [
    {
     "name": "stdout",
     "output_type": "stream",
     "text": [
      "df_train\n",
      "7503.0    3990518\n",
      "7506.0    1744627\n",
      "7504.0     261583\n",
      "0.0          3272\n",
      "Name: priority, dtype: int64\n",
      "df_test\n",
      "7503.0    2660834\n",
      "7506.0    1162848\n",
      "7504.0     174225\n",
      "0.0          2093\n",
      "Name: priority, dtype: int64\n"
     ]
    }
   ],
   "source": [
    "val('priority')"
   ]
  },
  {
   "cell_type": "code",
   "execution_count": 29,
   "id": "0a6c6380",
   "metadata": {},
   "outputs": [
    {
     "data": {
      "image/png": "[encoded data removed]",
      "text/plain": [
       "<Figure size 1080x360 with 1 Axes>"
      ]
     },
     "metadata": {
      "needs_background": "light"
     },
     "output_type": "display_data"
    },
    {
     "data": {
      "text/html": [
       "<div>\n",
       "<style scoped>\n",
       "    .dataframe tbody tr th:only-of-type {\n",
       "        vertical-align: middle;\n",
       "    }\n",
       "\n",
       "    .dataframe tbody tr th {\n",
       "        vertical-align: top;\n",
       "    }\n",
       "\n",
       "    .dataframe thead th {\n",
       "        text-align: right;\n",
       "    }\n",
       "</style>\n",
       "<table border=\"1\" class=\"dataframe\">\n",
       "  <thead>\n",
       "    <tr style=\"text-align: right;\">\n",
       "      <th>label</th>\n",
       "      <th>0</th>\n",
       "      <th>1</th>\n",
       "    </tr>\n",
       "    <tr>\n",
       "      <th>priority</th>\n",
       "      <th></th>\n",
       "      <th></th>\n",
       "    </tr>\n",
       "  </thead>\n",
       "  <tbody>\n",
       "    <tr>\n",
       "      <th>0.0</th>\n",
       "      <td>3272.0</td>\n",
       "      <td>NaN</td>\n",
       "    </tr>\n",
       "    <tr>\n",
       "      <th>7503.0</th>\n",
       "      <td>3842757.0</td>\n",
       "      <td>147761.0</td>\n",
       "    </tr>\n",
       "    <tr>\n",
       "      <th>7504.0</th>\n",
       "      <td>245740.0</td>\n",
       "      <td>15843.0</td>\n",
       "    </tr>\n",
       "    <tr>\n",
       "      <th>7506.0</th>\n",
       "      <td>1737251.0</td>\n",
       "      <td>7376.0</td>\n",
       "    </tr>\n",
       "  </tbody>\n",
       "</table>\n",
       "</div>"
      ],
      "text/plain": [
       "label             0         1\n",
       "priority                     \n",
       "0.0          3272.0       NaN\n",
       "7503.0    3842757.0  147761.0\n",
       "7504.0     245740.0   15843.0\n",
       "7506.0    1737251.0    7376.0"
      ]
     },
     "execution_count": 29,
     "metadata": {},
     "output_type": "execute_result"
    }
   ],
   "source": [
    "df_countplot(df_train, 'priority', 'label')\n",
    "df_train.pivot_table(index='priority', columns='label', values='id', aggfunc='count')"
   ]
  },
  {
   "cell_type": "markdown",
   "id": "ca9a3c24",
   "metadata": {},
   "source": [
    "Потерянные посылки в тренировочном датасете всегда имеют указанный приоритет. Удалим строки, для которых приоритет не указан (возможно в силу технической ошибки) и переведем в категориальный признак."
   ]
  },
  {
   "cell_type": "code",
   "execution_count": 30,
   "id": "46bc686c",
   "metadata": {},
   "outputs": [],
   "source": [
    "df_train = df_train[df_train['priority']!=0]"
   ]
  },
  {
   "cell_type": "code",
   "execution_count": 31,
   "id": "a9a41fa7",
   "metadata": {},
   "outputs": [
    {
     "data": {
      "text/html": [
       "<div>\n",
       "<style scoped>\n",
       "    .dataframe tbody tr th:only-of-type {\n",
       "        vertical-align: middle;\n",
       "    }\n",
       "\n",
       "    .dataframe tbody tr th {\n",
       "        vertical-align: top;\n",
       "    }\n",
       "\n",
       "    .dataframe thead th {\n",
       "        text-align: right;\n",
       "    }\n",
       "</style>\n",
       "<table border=\"1\" class=\"dataframe\">\n",
       "  <thead>\n",
       "    <tr style=\"text-align: right;\">\n",
       "      <th>label</th>\n",
       "      <th>0</th>\n",
       "      <th>1</th>\n",
       "    </tr>\n",
       "    <tr>\n",
       "      <th>priority</th>\n",
       "      <th></th>\n",
       "      <th></th>\n",
       "    </tr>\n",
       "  </thead>\n",
       "  <tbody>\n",
       "    <tr>\n",
       "      <th>7503.0</th>\n",
       "      <td>3842757</td>\n",
       "      <td>147761</td>\n",
       "    </tr>\n",
       "    <tr>\n",
       "      <th>7504.0</th>\n",
       "      <td>245740</td>\n",
       "      <td>15843</td>\n",
       "    </tr>\n",
       "    <tr>\n",
       "      <th>7506.0</th>\n",
       "      <td>1737251</td>\n",
       "      <td>7376</td>\n",
       "    </tr>\n",
       "  </tbody>\n",
       "</table>\n",
       "</div>"
      ],
      "text/plain": [
       "label           0       1\n",
       "priority                 \n",
       "7503.0    3842757  147761\n",
       "7504.0     245740   15843\n",
       "7506.0    1737251    7376"
      ]
     },
     "execution_count": 31,
     "metadata": {},
     "output_type": "execute_result"
    }
   ],
   "source": [
    "df_train[df_train['priority']!=0].pivot_table(index='priority', columns='label', values='id', aggfunc='count')"
   ]
  },
  {
   "cell_type": "markdown",
   "id": "7e7e00ba",
   "metadata": {},
   "source": [
    "Переведем в категориальный признак."
   ]
  },
  {
   "cell_type": "code",
   "execution_count": 32,
   "id": "34809ccf",
   "metadata": {},
   "outputs": [],
   "source": [
    "df_train[\"priority\"] = pd.Categorical(df_train[\"priority\"])\n",
    "df_train[\"priority\"].astype('category').cat.codes\n",
    "df_train[\"priority\"] = df_train[\"priority\"].cat.codes"
   ]
  },
  {
   "cell_type": "code",
   "execution_count": 33,
   "id": "5749036d",
   "metadata": {},
   "outputs": [],
   "source": [
    "df_test[\"priority\"] = pd.Categorical(df_test[\"priority\"])\n",
    "df_test[\"priority\"].astype('category').cat.codes\n",
    "df_test[\"priority\"] = df_test[\"priority\"].cat.codes"
   ]
  },
  {
   "cell_type": "markdown",
   "id": "e9c6d3a3",
   "metadata": {},
   "source": [
    "#### is_privatecategory  является ли отделением закрытого типа\n"
   ]
  },
  {
   "cell_type": "code",
   "execution_count": 34,
   "id": "fb00e873",
   "metadata": {},
   "outputs": [
    {
     "name": "stdout",
     "output_type": "stream",
     "text": [
      "df_train\n",
      "N    5993922\n",
      "Y       2806\n",
      "Name: is_privatecategory, dtype: int64\n",
      "df_test\n",
      "N    3996480\n",
      "Y       1820\n",
      "0       1700\n",
      "Name: is_privatecategory, dtype: int64\n"
     ]
    }
   ],
   "source": [
    "val('is_privatecategory')"
   ]
  },
  {
   "cell_type": "code",
   "execution_count": 35,
   "id": "ef1d0ef3",
   "metadata": {},
   "outputs": [
    {
     "data": {
      "text/html": [
       "<div>\n",
       "<style scoped>\n",
       "    .dataframe tbody tr th:only-of-type {\n",
       "        vertical-align: middle;\n",
       "    }\n",
       "\n",
       "    .dataframe tbody tr th {\n",
       "        vertical-align: top;\n",
       "    }\n",
       "\n",
       "    .dataframe thead th {\n",
       "        text-align: right;\n",
       "    }\n",
       "</style>\n",
       "<table border=\"1\" class=\"dataframe\">\n",
       "  <thead>\n",
       "    <tr style=\"text-align: right;\">\n",
       "      <th>label</th>\n",
       "      <th>0</th>\n",
       "      <th>1</th>\n",
       "    </tr>\n",
       "    <tr>\n",
       "      <th>is_privatecategory</th>\n",
       "      <th></th>\n",
       "      <th></th>\n",
       "    </tr>\n",
       "  </thead>\n",
       "  <tbody>\n",
       "    <tr>\n",
       "      <th>N</th>\n",
       "      <td>5823227</td>\n",
       "      <td>170695</td>\n",
       "    </tr>\n",
       "    <tr>\n",
       "      <th>Y</th>\n",
       "      <td>2521</td>\n",
       "      <td>285</td>\n",
       "    </tr>\n",
       "  </tbody>\n",
       "</table>\n",
       "</div>"
      ],
      "text/plain": [
       "label                     0       1\n",
       "is_privatecategory                 \n",
       "N                   5823227  170695\n",
       "Y                      2521     285"
      ]
     },
     "execution_count": 35,
     "metadata": {},
     "output_type": "execute_result"
    }
   ],
   "source": [
    "df_train.pivot_table(index='is_privatecategory', columns='label', values='id', aggfunc='count')"
   ]
  },
  {
   "cell_type": "markdown",
   "id": "165efe60",
   "metadata": {},
   "source": [
    "Признак не зарекомендовал себя при тестировании модели."
   ]
  },
  {
   "cell_type": "markdown",
   "id": "de97c1c9",
   "metadata": {},
   "source": [
    "#### class Значение класса или категории объекта почтовой связи\n"
   ]
  },
  {
   "cell_type": "code",
   "execution_count": 36,
   "id": "d7881904",
   "metadata": {},
   "outputs": [
    {
     "name": "stdout",
     "output_type": "stream",
     "text": [
      "df_train\n",
      "0.0    5211573\n",
      "3.0     371753\n",
      "2.0     150393\n",
      "4.0     131468\n",
      "1.0     114117\n",
      "5.0      17424\n",
      "Name: class, dtype: int64\n",
      "df_test\n",
      "0.0    3476329\n",
      "3.0     248562\n",
      "2.0     100242\n",
      "4.0      87307\n",
      "1.0      76204\n",
      "5.0      11356\n",
      "Name: class, dtype: int64\n"
     ]
    }
   ],
   "source": [
    "val('class')"
   ]
  },
  {
   "cell_type": "code",
   "execution_count": 37,
   "id": "5df13d0b",
   "metadata": {
    "scrolled": false
   },
   "outputs": [
    {
     "data": {
      "image/png": "[encoded data removed]",
      "text/plain": [
       "<Figure size 1080x360 with 1 Axes>"
      ]
     },
     "metadata": {
      "needs_background": "light"
     },
     "output_type": "display_data"
    },
    {
     "data": {
      "text/html": [
       "<div>\n",
       "<style scoped>\n",
       "    .dataframe tbody tr th:only-of-type {\n",
       "        vertical-align: middle;\n",
       "    }\n",
       "\n",
       "    .dataframe tbody tr th {\n",
       "        vertical-align: top;\n",
       "    }\n",
       "\n",
       "    .dataframe thead th {\n",
       "        text-align: right;\n",
       "    }\n",
       "</style>\n",
       "<table border=\"1\" class=\"dataframe\">\n",
       "  <thead>\n",
       "    <tr style=\"text-align: right;\">\n",
       "      <th>label</th>\n",
       "      <th>0</th>\n",
       "      <th>1</th>\n",
       "    </tr>\n",
       "    <tr>\n",
       "      <th>class</th>\n",
       "      <th></th>\n",
       "      <th></th>\n",
       "    </tr>\n",
       "  </thead>\n",
       "  <tbody>\n",
       "    <tr>\n",
       "      <th>0.0</th>\n",
       "      <td>5098782</td>\n",
       "      <td>112791</td>\n",
       "    </tr>\n",
       "    <tr>\n",
       "      <th>1.0</th>\n",
       "      <td>112998</td>\n",
       "      <td>1119</td>\n",
       "    </tr>\n",
       "    <tr>\n",
       "      <th>2.0</th>\n",
       "      <td>143112</td>\n",
       "      <td>7281</td>\n",
       "    </tr>\n",
       "    <tr>\n",
       "      <th>3.0</th>\n",
       "      <td>337649</td>\n",
       "      <td>34104</td>\n",
       "    </tr>\n",
       "    <tr>\n",
       "      <th>4.0</th>\n",
       "      <td>117969</td>\n",
       "      <td>13499</td>\n",
       "    </tr>\n",
       "    <tr>\n",
       "      <th>5.0</th>\n",
       "      <td>15238</td>\n",
       "      <td>2186</td>\n",
       "    </tr>\n",
       "  </tbody>\n",
       "</table>\n",
       "</div>"
      ],
      "text/plain": [
       "label        0       1\n",
       "class                 \n",
       "0.0    5098782  112791\n",
       "1.0     112998    1119\n",
       "2.0     143112    7281\n",
       "3.0     337649   34104\n",
       "4.0     117969   13499\n",
       "5.0      15238    2186"
      ]
     },
     "execution_count": 37,
     "metadata": {},
     "output_type": "execute_result"
    }
   ],
   "source": [
    "df_countplot(df_train, 'class', 'label')\n",
    "df_train.pivot_table(index='class', columns='label', values='id', aggfunc='count')"
   ]
  },
  {
   "cell_type": "markdown",
   "id": "4da8a336",
   "metadata": {},
   "source": [
    "#### is_in_yandex адрес отделения связи отображается в Яндекс-картах"
   ]
  },
  {
   "cell_type": "code",
   "execution_count": 38,
   "id": "de1a8a6a",
   "metadata": {},
   "outputs": [
    {
     "name": "stdout",
     "output_type": "stream",
     "text": [
      "df_train\n",
      "N    3585354\n",
      "Y    2411374\n",
      "Name: is_in_yandex, dtype: int64\n",
      "df_test\n",
      "N    2389898\n",
      "Y    1608402\n",
      "0       1700\n",
      "Name: is_in_yandex, dtype: int64\n"
     ]
    }
   ],
   "source": [
    "val('is_in_yandex')"
   ]
  },
  {
   "cell_type": "code",
   "execution_count": 39,
   "id": "ecfaef8a",
   "metadata": {
    "scrolled": false
   },
   "outputs": [
    {
     "data": {
      "image/png": "[encoded data removed]",
      "text/plain": [
       "<Figure size 1080x360 with 1 Axes>"
      ]
     },
     "metadata": {
      "needs_background": "light"
     },
     "output_type": "display_data"
    },
    {
     "data": {
      "text/html": [
       "<div>\n",
       "<style scoped>\n",
       "    .dataframe tbody tr th:only-of-type {\n",
       "        vertical-align: middle;\n",
       "    }\n",
       "\n",
       "    .dataframe tbody tr th {\n",
       "        vertical-align: top;\n",
       "    }\n",
       "\n",
       "    .dataframe thead th {\n",
       "        text-align: right;\n",
       "    }\n",
       "</style>\n",
       "<table border=\"1\" class=\"dataframe\">\n",
       "  <thead>\n",
       "    <tr style=\"text-align: right;\">\n",
       "      <th>label</th>\n",
       "      <th>0</th>\n",
       "      <th>1</th>\n",
       "    </tr>\n",
       "    <tr>\n",
       "      <th>is_in_yandex</th>\n",
       "      <th></th>\n",
       "      <th></th>\n",
       "    </tr>\n",
       "  </thead>\n",
       "  <tbody>\n",
       "    <tr>\n",
       "      <th>N</th>\n",
       "      <td>3470894</td>\n",
       "      <td>114460</td>\n",
       "    </tr>\n",
       "    <tr>\n",
       "      <th>Y</th>\n",
       "      <td>2354854</td>\n",
       "      <td>56520</td>\n",
       "    </tr>\n",
       "  </tbody>\n",
       "</table>\n",
       "</div>"
      ],
      "text/plain": [
       "label               0       1\n",
       "is_in_yandex                 \n",
       "N             3470894  114460\n",
       "Y             2354854   56520"
      ]
     },
     "execution_count": 39,
     "metadata": {},
     "output_type": "execute_result"
    }
   ],
   "source": [
    "df_countplot(df_train, 'is_in_yandex', 'label')\n",
    "df_train.pivot_table(index='is_in_yandex', columns='label', values='id', aggfunc='count')"
   ]
  },
  {
   "cell_type": "markdown",
   "id": "7ceef52a",
   "metadata": {},
   "source": [
    "Признак не зарекомендовал себя при тестировании модели."
   ]
  },
  {
   "cell_type": "markdown",
   "id": "9cbc43d1",
   "metadata": {},
   "source": [
    "#### is_return Отправление движется в направлении возврата отправителю"
   ]
  },
  {
   "cell_type": "code",
   "execution_count": 40,
   "id": "ebe2382a",
   "metadata": {},
   "outputs": [
    {
     "name": "stdout",
     "output_type": "stream",
     "text": [
      "df_train\n",
      "N    5989747\n",
      "Y       6981\n",
      "Name: is_return, dtype: int64\n",
      "df_test\n",
      "N    3995443\n",
      "Y       4557\n",
      "Name: is_return, dtype: int64\n"
     ]
    }
   ],
   "source": [
    "val('is_return')"
   ]
  },
  {
   "cell_type": "code",
   "execution_count": 41,
   "id": "34d9a39d",
   "metadata": {
    "scrolled": false
   },
   "outputs": [
    {
     "data": {
      "image/png": "[encoded data removed]",
      "text/plain": [
       "<Figure size 1080x360 with 1 Axes>"
      ]
     },
     "metadata": {
      "needs_background": "light"
     },
     "output_type": "display_data"
    },
    {
     "data": {
      "text/html": [
       "<div>\n",
       "<style scoped>\n",
       "    .dataframe tbody tr th:only-of-type {\n",
       "        vertical-align: middle;\n",
       "    }\n",
       "\n",
       "    .dataframe tbody tr th {\n",
       "        vertical-align: top;\n",
       "    }\n",
       "\n",
       "    .dataframe thead th {\n",
       "        text-align: right;\n",
       "    }\n",
       "</style>\n",
       "<table border=\"1\" class=\"dataframe\">\n",
       "  <thead>\n",
       "    <tr style=\"text-align: right;\">\n",
       "      <th>label</th>\n",
       "      <th>0</th>\n",
       "      <th>1</th>\n",
       "    </tr>\n",
       "    <tr>\n",
       "      <th>is_return</th>\n",
       "      <th></th>\n",
       "      <th></th>\n",
       "    </tr>\n",
       "  </thead>\n",
       "  <tbody>\n",
       "    <tr>\n",
       "      <th>N</th>\n",
       "      <td>5818922</td>\n",
       "      <td>170825</td>\n",
       "    </tr>\n",
       "    <tr>\n",
       "      <th>Y</th>\n",
       "      <td>6826</td>\n",
       "      <td>155</td>\n",
       "    </tr>\n",
       "  </tbody>\n",
       "</table>\n",
       "</div>"
      ],
      "text/plain": [
       "label            0       1\n",
       "is_return                 \n",
       "N          5818922  170825\n",
       "Y             6826     155"
      ]
     },
     "execution_count": 41,
     "metadata": {},
     "output_type": "execute_result"
    }
   ],
   "source": [
    "df_countplot(df_train, 'is_return', 'label')\n",
    "df_train.pivot_table(index='is_return', columns='label', values='id', aggfunc='count')"
   ]
  },
  {
   "cell_type": "markdown",
   "id": "3c8b797e",
   "metadata": {},
   "source": [
    "Большая часть утерянных посылок не двигалась в обратном направлени. Вероятнее всего, признак бесполезен."
   ]
  },
  {
   "cell_type": "markdown",
   "id": "9b19c931",
   "metadata": {},
   "source": [
    "#### weight Вес в граммах"
   ]
  },
  {
   "cell_type": "code",
   "execution_count": 42,
   "id": "b7d89dff",
   "metadata": {},
   "outputs": [
    {
     "name": "stdout",
     "output_type": "stream",
     "text": [
      "df_train 2809\n",
      "df_test 2804\n"
     ]
    }
   ],
   "source": [
    "uniq('weight')"
   ]
  },
  {
   "cell_type": "code",
   "execution_count": 43,
   "id": "962728ba",
   "metadata": {
    "scrolled": false
   },
   "outputs": [
    {
     "data": {
      "image/png": "[encoded data removed]",
      "text/plain": [
       "<Figure size 1080x360 with 1 Axes>"
      ]
     },
     "metadata": {
      "needs_background": "light"
     },
     "output_type": "display_data"
    }
   ],
   "source": [
    "boxplot(df_train['weight'])"
   ]
  },
  {
   "cell_type": "code",
   "execution_count": 44,
   "id": "fbc90489",
   "metadata": {},
   "outputs": [
    {
     "data": {
      "text/plain": [
       "1246.0"
      ]
     },
     "execution_count": 44,
     "metadata": {},
     "output_type": "execute_result"
    }
   ],
   "source": [
    "a0 = np.percentile(df_train['weight'], [97])\n",
    "a0[0]"
   ]
  },
  {
   "cell_type": "code",
   "execution_count": 45,
   "id": "5257cee5",
   "metadata": {},
   "outputs": [
    {
     "data": {
      "text/plain": [
       "5816938"
      ]
     },
     "execution_count": 45,
     "metadata": {},
     "output_type": "execute_result"
    }
   ],
   "source": [
    "df_train = df_train[df_train['weight'] <=a0[0]]\n",
    "len(df_train)"
   ]
  },
  {
   "cell_type": "code",
   "execution_count": 46,
   "id": "05e1fc3a",
   "metadata": {},
   "outputs": [
    {
     "data": {
      "image/png": "[encoded data removed]",
      "text/plain": [
       "<Figure size 1080x360 with 1 Axes>"
      ]
     },
     "metadata": {
      "needs_background": "light"
     },
     "output_type": "display_data"
    }
   ],
   "source": [
    "boxplot(df_train['weight'])"
   ]
  },
  {
   "cell_type": "markdown",
   "id": "f7613bc5",
   "metadata": {},
   "source": [
    "Проверим были ли посылки с нулевым весом."
   ]
  },
  {
   "cell_type": "code",
   "execution_count": 47,
   "id": "a78f33bb",
   "metadata": {},
   "outputs": [
    {
     "data": {
      "text/plain": [
       "4893"
      ]
     },
     "execution_count": 47,
     "metadata": {},
     "output_type": "execute_result"
    }
   ],
   "source": [
    "df_train[df_train['weight']==0].id.nunique()"
   ]
  },
  {
   "cell_type": "markdown",
   "id": "9b78fe69",
   "metadata": {},
   "source": [
    "4893 посылки имели нулевой вес. Вес самого маленького пустого конверта составляет 5 грамм, однако наверняка в нем еще что-то лежит. Поэтому отсечем ве записи со значением веса посылки меньше 10 граммов."
   ]
  },
  {
   "cell_type": "code",
   "execution_count": 48,
   "id": "b7edb793",
   "metadata": {},
   "outputs": [
    {
     "data": {
      "text/plain": [
       "7132"
      ]
     },
     "execution_count": 48,
     "metadata": {},
     "output_type": "execute_result"
    }
   ],
   "source": [
    "df_train[(df_train['weight']<10)&(df_train['label']==1)].id.nunique()"
   ]
  },
  {
   "cell_type": "code",
   "execution_count": 49,
   "id": "a8b1ec50",
   "metadata": {},
   "outputs": [
    {
     "data": {
      "text/plain": [
       "5716032"
      ]
     },
     "execution_count": 49,
     "metadata": {},
     "output_type": "execute_result"
    }
   ],
   "source": [
    "df_train = df_train[df_train['weight']>=10]\n",
    "len(df_train)"
   ]
  },
  {
   "cell_type": "markdown",
   "id": "cfb392cb",
   "metadata": {},
   "source": [
    "#### mailtype Код вида отправления"
   ]
  },
  {
   "cell_type": "code",
   "execution_count": 50,
   "id": "3505b263",
   "metadata": {},
   "outputs": [
    {
     "name": "stdout",
     "output_type": "stream",
     "text": [
      "df_train\n",
      "5.0    5709723\n",
      "0.0       4609\n",
      "2.0       1329\n",
      "7.0        310\n",
      "1.0         20\n",
      "8.0         19\n",
      "4.0         18\n",
      "6.0          2\n",
      "9.0          2\n",
      "Name: mailtype, dtype: int64\n",
      "df_test\n",
      "5.0    3995167\n",
      "0.0       3453\n",
      "2.0        969\n",
      "7.0        336\n",
      "4.0         47\n",
      "8.0         14\n",
      "1.0         14\n",
      "Name: mailtype, dtype: int64\n"
     ]
    }
   ],
   "source": [
    "val('mailtype')"
   ]
  },
  {
   "cell_type": "code",
   "execution_count": 51,
   "id": "ddc5d0c9",
   "metadata": {
    "scrolled": true
   },
   "outputs": [
    {
     "data": {
      "text/html": [
       "<div>\n",
       "<style scoped>\n",
       "    .dataframe tbody tr th:only-of-type {\n",
       "        vertical-align: middle;\n",
       "    }\n",
       "\n",
       "    .dataframe tbody tr th {\n",
       "        vertical-align: top;\n",
       "    }\n",
       "\n",
       "    .dataframe thead th {\n",
       "        text-align: right;\n",
       "    }\n",
       "</style>\n",
       "<table border=\"1\" class=\"dataframe\">\n",
       "  <thead>\n",
       "    <tr style=\"text-align: right;\">\n",
       "      <th>label</th>\n",
       "      <th>0</th>\n",
       "      <th>1</th>\n",
       "    </tr>\n",
       "    <tr>\n",
       "      <th>mailtype</th>\n",
       "      <th></th>\n",
       "      <th></th>\n",
       "    </tr>\n",
       "  </thead>\n",
       "  <tbody>\n",
       "    <tr>\n",
       "      <th>0.0</th>\n",
       "      <td>4606.0</td>\n",
       "      <td>3.0</td>\n",
       "    </tr>\n",
       "    <tr>\n",
       "      <th>1.0</th>\n",
       "      <td>20.0</td>\n",
       "      <td>NaN</td>\n",
       "    </tr>\n",
       "    <tr>\n",
       "      <th>2.0</th>\n",
       "      <td>1304.0</td>\n",
       "      <td>25.0</td>\n",
       "    </tr>\n",
       "    <tr>\n",
       "      <th>4.0</th>\n",
       "      <td>16.0</td>\n",
       "      <td>2.0</td>\n",
       "    </tr>\n",
       "    <tr>\n",
       "      <th>5.0</th>\n",
       "      <td>5548479.0</td>\n",
       "      <td>161244.0</td>\n",
       "    </tr>\n",
       "    <tr>\n",
       "      <th>6.0</th>\n",
       "      <td>2.0</td>\n",
       "      <td>NaN</td>\n",
       "    </tr>\n",
       "    <tr>\n",
       "      <th>7.0</th>\n",
       "      <td>305.0</td>\n",
       "      <td>5.0</td>\n",
       "    </tr>\n",
       "    <tr>\n",
       "      <th>8.0</th>\n",
       "      <td>19.0</td>\n",
       "      <td>NaN</td>\n",
       "    </tr>\n",
       "    <tr>\n",
       "      <th>9.0</th>\n",
       "      <td>2.0</td>\n",
       "      <td>NaN</td>\n",
       "    </tr>\n",
       "  </tbody>\n",
       "</table>\n",
       "</div>"
      ],
      "text/plain": [
       "label             0         1\n",
       "mailtype                     \n",
       "0.0          4606.0       3.0\n",
       "1.0            20.0       NaN\n",
       "2.0          1304.0      25.0\n",
       "4.0            16.0       2.0\n",
       "5.0       5548479.0  161244.0\n",
       "6.0             2.0       NaN\n",
       "7.0           305.0       5.0\n",
       "8.0            19.0       NaN\n",
       "9.0             2.0       NaN"
      ]
     },
     "execution_count": 51,
     "metadata": {},
     "output_type": "execute_result"
    }
   ],
   "source": [
    "df_train.pivot_table(index='mailtype', columns='label', values='id', aggfunc='count')"
   ]
  },
  {
   "cell_type": "markdown",
   "id": "b1124f94",
   "metadata": {},
   "source": [
    "#### mailctg Код категории почтового отправления"
   ]
  },
  {
   "cell_type": "code",
   "execution_count": 52,
   "id": "3eaf3180",
   "metadata": {},
   "outputs": [
    {
     "name": "stdout",
     "output_type": "stream",
     "text": [
      "df_train\n",
      " 1.0    4485029\n",
      " 0.0    1178029\n",
      "-1.0      52626\n",
      " 3.0        328\n",
      " 5.0         20\n",
      "Name: mailctg, dtype: int64\n",
      "df_test\n",
      " 1.0    3127158\n",
      " 0.0     836708\n",
      "-1.0      35737\n",
      " 3.0        383\n",
      " 5.0         14\n",
      "Name: mailctg, dtype: int64\n"
     ]
    }
   ],
   "source": [
    "val('mailctg')"
   ]
  },
  {
   "cell_type": "code",
   "execution_count": 53,
   "id": "a19500dc",
   "metadata": {
    "scrolled": false
   },
   "outputs": [
    {
     "data": {
      "image/png": "[encoded data removed]",
      "text/plain": [
       "<Figure size 1080x360 with 1 Axes>"
      ]
     },
     "metadata": {
      "needs_background": "light"
     },
     "output_type": "display_data"
    },
    {
     "data": {
      "text/html": [
       "<div>\n",
       "<style scoped>\n",
       "    .dataframe tbody tr th:only-of-type {\n",
       "        vertical-align: middle;\n",
       "    }\n",
       "\n",
       "    .dataframe tbody tr th {\n",
       "        vertical-align: top;\n",
       "    }\n",
       "\n",
       "    .dataframe thead th {\n",
       "        text-align: right;\n",
       "    }\n",
       "</style>\n",
       "<table border=\"1\" class=\"dataframe\">\n",
       "  <thead>\n",
       "    <tr style=\"text-align: right;\">\n",
       "      <th>label</th>\n",
       "      <th>0</th>\n",
       "      <th>1</th>\n",
       "    </tr>\n",
       "    <tr>\n",
       "      <th>mailctg</th>\n",
       "      <th></th>\n",
       "      <th></th>\n",
       "    </tr>\n",
       "  </thead>\n",
       "  <tbody>\n",
       "    <tr>\n",
       "      <th>-1.0</th>\n",
       "      <td>51493.0</td>\n",
       "      <td>1133.0</td>\n",
       "    </tr>\n",
       "    <tr>\n",
       "      <th>0.0</th>\n",
       "      <td>1081710.0</td>\n",
       "      <td>96319.0</td>\n",
       "    </tr>\n",
       "    <tr>\n",
       "      <th>1.0</th>\n",
       "      <td>4421209.0</td>\n",
       "      <td>63820.0</td>\n",
       "    </tr>\n",
       "    <tr>\n",
       "      <th>3.0</th>\n",
       "      <td>321.0</td>\n",
       "      <td>7.0</td>\n",
       "    </tr>\n",
       "    <tr>\n",
       "      <th>5.0</th>\n",
       "      <td>20.0</td>\n",
       "      <td>NaN</td>\n",
       "    </tr>\n",
       "  </tbody>\n",
       "</table>\n",
       "</div>"
      ],
      "text/plain": [
       "label            0        1\n",
       "mailctg                    \n",
       "-1.0       51493.0   1133.0\n",
       " 0.0     1081710.0  96319.0\n",
       " 1.0     4421209.0  63820.0\n",
       " 3.0         321.0      7.0\n",
       " 5.0          20.0      NaN"
      ]
     },
     "execution_count": 53,
     "metadata": {},
     "output_type": "execute_result"
    }
   ],
   "source": [
    "df_countplot(df_train, 'mailctg', 'label')\n",
    "df_train.pivot_table(index='mailctg', columns='label', values='id', aggfunc='count')"
   ]
  },
  {
   "cell_type": "markdown",
   "id": "e58a64ba",
   "metadata": {},
   "source": [
    "#### mailrank Код разряда почтового отправления"
   ]
  },
  {
   "cell_type": "code",
   "execution_count": 54,
   "id": "5bab268a",
   "metadata": {},
   "outputs": [
    {
     "name": "stdout",
     "output_type": "stream",
     "text": [
      "df_train\n",
      "0.0    5716032\n",
      "Name: mailrank, dtype: int64\n",
      "df_test\n",
      "0.0    4000000\n",
      "Name: mailrank, dtype: int64\n"
     ]
    }
   ],
   "source": [
    "val('mailrank')"
   ]
  },
  {
   "cell_type": "markdown",
   "id": "f9e79bd3",
   "metadata": {},
   "source": [
    "Признак имеет одно значение - можно удалять, нет смысла ипользовать для обучения."
   ]
  },
  {
   "cell_type": "markdown",
   "id": "34beb6b7",
   "metadata": {},
   "source": [
    "#### directctg Код классификации отправления"
   ]
  },
  {
   "cell_type": "code",
   "execution_count": 55,
   "id": "d0932195",
   "metadata": {},
   "outputs": [
    {
     "name": "stdout",
     "output_type": "stream",
     "text": [
      "df_train\n",
      "2.0    5650593\n",
      "1.0      65439\n",
      "Name: directctg, dtype: int64\n",
      "df_test\n",
      "2.0    3953723\n",
      "1.0      46171\n",
      "0.0        106\n",
      "Name: directctg, dtype: int64\n"
     ]
    }
   ],
   "source": [
    "val('directctg')"
   ]
  },
  {
   "cell_type": "code",
   "execution_count": 56,
   "id": "27704717",
   "metadata": {
    "scrolled": true
   },
   "outputs": [
    {
     "data": {
      "image/png": "[encoded data removed]",
      "text/plain": [
       "<Figure size 1080x360 with 1 Axes>"
      ]
     },
     "metadata": {
      "needs_background": "light"
     },
     "output_type": "display_data"
    }
   ],
   "source": [
    "df_countplot(df_train, 'directctg', 'label')"
   ]
  },
  {
   "cell_type": "code",
   "execution_count": 57,
   "id": "9289fb63",
   "metadata": {},
   "outputs": [
    {
     "data": {
      "text/html": [
       "<div>\n",
       "<style scoped>\n",
       "    .dataframe tbody tr th:only-of-type {\n",
       "        vertical-align: middle;\n",
       "    }\n",
       "\n",
       "    .dataframe tbody tr th {\n",
       "        vertical-align: top;\n",
       "    }\n",
       "\n",
       "    .dataframe thead th {\n",
       "        text-align: right;\n",
       "    }\n",
       "</style>\n",
       "<table border=\"1\" class=\"dataframe\">\n",
       "  <thead>\n",
       "    <tr style=\"text-align: right;\">\n",
       "      <th>label</th>\n",
       "      <th>0</th>\n",
       "      <th>1</th>\n",
       "    </tr>\n",
       "    <tr>\n",
       "      <th>directctg</th>\n",
       "      <th></th>\n",
       "      <th></th>\n",
       "    </tr>\n",
       "  </thead>\n",
       "  <tbody>\n",
       "    <tr>\n",
       "      <th>1.0</th>\n",
       "      <td>64241</td>\n",
       "      <td>1198</td>\n",
       "    </tr>\n",
       "    <tr>\n",
       "      <th>2.0</th>\n",
       "      <td>5490512</td>\n",
       "      <td>160081</td>\n",
       "    </tr>\n",
       "  </tbody>\n",
       "</table>\n",
       "</div>"
      ],
      "text/plain": [
       "label            0       1\n",
       "directctg                 \n",
       "1.0          64241    1198\n",
       "2.0        5490512  160081"
      ]
     },
     "execution_count": 57,
     "metadata": {},
     "output_type": "execute_result"
    }
   ],
   "source": [
    "df_train.pivot_table(index='directctg', columns='label', values='id', aggfunc='count')"
   ]
  },
  {
   "cell_type": "markdown",
   "id": "15fe5d84",
   "metadata": {},
   "source": [
    "Признак безполезен."
   ]
  },
  {
   "cell_type": "markdown",
   "id": "d611fd77",
   "metadata": {},
   "source": [
    "#### transport_pay Общая сумма платы за пересылку в условной валюте\n"
   ]
  },
  {
   "cell_type": "code",
   "execution_count": 58,
   "id": "de16c050",
   "metadata": {},
   "outputs": [
    {
     "name": "stdout",
     "output_type": "stream",
     "text": [
      "df_train 7325\n",
      "df_test 10358\n"
     ]
    }
   ],
   "source": [
    "uniq('transport_pay')"
   ]
  },
  {
   "cell_type": "code",
   "execution_count": 59,
   "id": "05ddd857",
   "metadata": {
    "scrolled": false
   },
   "outputs": [
    {
     "data": {
      "image/png": "[encoded data removed]",
      "text/plain": [
       "<Figure size 1080x360 with 1 Axes>"
      ]
     },
     "metadata": {
      "needs_background": "light"
     },
     "output_type": "display_data"
    }
   ],
   "source": [
    "boxplot(df_train['transport_pay'])"
   ]
  },
  {
   "cell_type": "code",
   "execution_count": 60,
   "id": "b40f5483",
   "metadata": {},
   "outputs": [
    {
     "data": {
      "text/plain": [
       "56.29"
      ]
     },
     "execution_count": 60,
     "metadata": {},
     "output_type": "execute_result"
    }
   ],
   "source": [
    "a1 = np.percentile(df_train['transport_pay'], [97])\n",
    "a1[0]"
   ]
  },
  {
   "cell_type": "code",
   "execution_count": 61,
   "id": "8e243526",
   "metadata": {},
   "outputs": [
    {
     "data": {
      "text/plain": [
       "5544678"
      ]
     },
     "execution_count": 61,
     "metadata": {},
     "output_type": "execute_result"
    }
   ],
   "source": [
    "df_train = df_train[df_train['transport_pay'] <= a1[0]]\n",
    "len(df_train)"
   ]
  },
  {
   "cell_type": "code",
   "execution_count": 62,
   "id": "1c36fac5",
   "metadata": {},
   "outputs": [
    {
     "data": {
      "image/png": "[encoded data removed]",
      "text/plain": [
       "<Figure size 1080x360 with 1 Axes>"
      ]
     },
     "metadata": {
      "needs_background": "light"
     },
     "output_type": "display_data"
    }
   ],
   "source": [
    "boxplot(df_train['transport_pay'])"
   ]
  },
  {
   "cell_type": "markdown",
   "id": "a70ffaaa",
   "metadata": {},
   "source": [
    "#### postmark Код отметки"
   ]
  },
  {
   "cell_type": "code",
   "execution_count": 63,
   "id": "78f323d1",
   "metadata": {},
   "outputs": [
    {
     "name": "stdout",
     "output_type": "stream",
     "text": [
      "df_train\n",
      "0.0       5543906\n",
      "512.0         682\n",
      "1024.0         79\n",
      "256.0           7\n",
      "1.0             4\n",
      "Name: postmark, dtype: int64\n",
      "df_test\n",
      "0.0       3999288\n",
      "512.0         622\n",
      "1024.0         67\n",
      "8.0            15\n",
      "256.0           4\n",
      "1.0             4\n",
      "Name: postmark, dtype: int64\n"
     ]
    }
   ],
   "source": [
    "val('postmark')"
   ]
  },
  {
   "cell_type": "code",
   "execution_count": 64,
   "id": "17185f89",
   "metadata": {
    "scrolled": true
   },
   "outputs": [
    {
     "data": {
      "text/html": [
       "<div>\n",
       "<style scoped>\n",
       "    .dataframe tbody tr th:only-of-type {\n",
       "        vertical-align: middle;\n",
       "    }\n",
       "\n",
       "    .dataframe tbody tr th {\n",
       "        vertical-align: top;\n",
       "    }\n",
       "\n",
       "    .dataframe thead th {\n",
       "        text-align: right;\n",
       "    }\n",
       "</style>\n",
       "<table border=\"1\" class=\"dataframe\">\n",
       "  <thead>\n",
       "    <tr style=\"text-align: right;\">\n",
       "      <th>label</th>\n",
       "      <th>0</th>\n",
       "      <th>1</th>\n",
       "    </tr>\n",
       "    <tr>\n",
       "      <th>postmark</th>\n",
       "      <th></th>\n",
       "      <th></th>\n",
       "    </tr>\n",
       "  </thead>\n",
       "  <tbody>\n",
       "    <tr>\n",
       "      <th>0.0</th>\n",
       "      <td>5384543.0</td>\n",
       "      <td>159363.0</td>\n",
       "    </tr>\n",
       "    <tr>\n",
       "      <th>1.0</th>\n",
       "      <td>4.0</td>\n",
       "      <td>NaN</td>\n",
       "    </tr>\n",
       "    <tr>\n",
       "      <th>256.0</th>\n",
       "      <td>7.0</td>\n",
       "      <td>NaN</td>\n",
       "    </tr>\n",
       "    <tr>\n",
       "      <th>512.0</th>\n",
       "      <td>671.0</td>\n",
       "      <td>11.0</td>\n",
       "    </tr>\n",
       "    <tr>\n",
       "      <th>1024.0</th>\n",
       "      <td>77.0</td>\n",
       "      <td>2.0</td>\n",
       "    </tr>\n",
       "  </tbody>\n",
       "</table>\n",
       "</div>"
      ],
      "text/plain": [
       "label             0         1\n",
       "postmark                     \n",
       "0.0       5384543.0  159363.0\n",
       "1.0             4.0       NaN\n",
       "256.0           7.0       NaN\n",
       "512.0         671.0      11.0\n",
       "1024.0         77.0       2.0"
      ]
     },
     "execution_count": 64,
     "metadata": {},
     "output_type": "execute_result"
    }
   ],
   "source": [
    "df_train.pivot_table(index='postmark', columns='label', values='id', aggfunc='count')"
   ]
  },
  {
   "cell_type": "markdown",
   "id": "fe036b96",
   "metadata": {},
   "source": [
    "Признак безполезен."
   ]
  },
  {
   "cell_type": "markdown",
   "id": "a27721b7",
   "metadata": {},
   "source": [
    "#### name_mfi Наименование вложений (указано через запятую),указывается на бирке отправления"
   ]
  },
  {
   "cell_type": "code",
   "execution_count": 65,
   "id": "4689e216",
   "metadata": {},
   "outputs": [
    {
     "name": "stdout",
     "output_type": "stream",
     "text": [
      "df_train 203622\n",
      "df_test 205458\n"
     ]
    }
   ],
   "source": [
    "uniq('name_mfi')"
   ]
  },
  {
   "cell_type": "code",
   "execution_count": 66,
   "id": "5869208a",
   "metadata": {},
   "outputs": [],
   "source": [
    "df_train['name_mfi'] = df_train['name_mfi'].str.lower()\n",
    "df_test['name_mfi'] = df_test['name_mfi'].str.lower()"
   ]
  },
  {
   "cell_type": "markdown",
   "id": "0b0fe4c2",
   "metadata": {},
   "source": [
    "#### Число наименований в посылке"
   ]
  },
  {
   "cell_type": "code",
   "execution_count": 67,
   "id": "4370b533",
   "metadata": {},
   "outputs": [],
   "source": [
    "df_train['mfi_name_count'] = df_train.name_mfi.str.count(',')\n",
    "df_test['mfi_name_count'] = df_test.name_mfi.str.count(',')\n",
    "\n",
    "df_train['mfi_name_count'] = np.where(df_train['name_mfi']=='0', 0, df_train['mfi_name_count']+1)\n",
    "df_test['mfi_name_count'] = np.where(df_test['name_mfi']=='0', 0, df_test['mfi_name_count']+1)"
   ]
  },
  {
   "cell_type": "code",
   "execution_count": 68,
   "id": "5176696d",
   "metadata": {},
   "outputs": [
    {
     "data": {
      "text/html": [
       "<div>\n",
       "<style scoped>\n",
       "    .dataframe tbody tr th:only-of-type {\n",
       "        vertical-align: middle;\n",
       "    }\n",
       "\n",
       "    .dataframe tbody tr th {\n",
       "        vertical-align: top;\n",
       "    }\n",
       "\n",
       "    .dataframe thead th {\n",
       "        text-align: right;\n",
       "    }\n",
       "</style>\n",
       "<table border=\"1\" class=\"dataframe\">\n",
       "  <thead>\n",
       "    <tr style=\"text-align: right;\">\n",
       "      <th></th>\n",
       "      <th>name_mfi</th>\n",
       "      <th>mfi_name_count</th>\n",
       "    </tr>\n",
       "  </thead>\n",
       "  <tbody>\n",
       "    <tr>\n",
       "      <th>0</th>\n",
       "      <td>fishhook,usb</td>\n",
       "      <td>2</td>\n",
       "    </tr>\n",
       "    <tr>\n",
       "      <th>1</th>\n",
       "      <td>screen protector,case(q613b),case(208b40-db)</td>\n",
       "      <td>3</td>\n",
       "    </tr>\n",
       "    <tr>\n",
       "      <th>2</th>\n",
       "      <td>pendant necklaces,rings for women,necklaces</td>\n",
       "      <td>3</td>\n",
       "    </tr>\n",
       "    <tr>\n",
       "      <th>3</th>\n",
       "      <td>motorcycle signal lamp</td>\n",
       "      <td>1</td>\n",
       "    </tr>\n",
       "    <tr>\n",
       "      <th>4</th>\n",
       "      <td>backpack</td>\n",
       "      <td>1</td>\n",
       "    </tr>\n",
       "  </tbody>\n",
       "</table>\n",
       "</div>"
      ],
      "text/plain": [
       "                                       name_mfi  mfi_name_count\n",
       "0                                  fishhook,usb               2\n",
       "1  screen protector,case(q613b),case(208b40-db)               3\n",
       "2   pendant necklaces,rings for women,necklaces               3\n",
       "3                        motorcycle signal lamp               1\n",
       "4                                      backpack               1"
      ]
     },
     "execution_count": 68,
     "metadata": {},
     "output_type": "execute_result"
    }
   ],
   "source": [
    "df_train[['name_mfi', 'mfi_name_count']].head()"
   ]
  },
  {
   "cell_type": "markdown",
   "id": "14f84239",
   "metadata": {},
   "source": [
    "#### weight_mfi Суммарная масса вложений\n"
   ]
  },
  {
   "cell_type": "code",
   "execution_count": 69,
   "id": "73e864a0",
   "metadata": {},
   "outputs": [
    {
     "name": "stdout",
     "output_type": "stream",
     "text": [
      "df_train 1676\n",
      "df_test 2069\n"
     ]
    }
   ],
   "source": [
    "uniq('weight_mfi')"
   ]
  },
  {
   "cell_type": "code",
   "execution_count": 70,
   "id": "71ad7438",
   "metadata": {},
   "outputs": [
    {
     "data": {
      "text/plain": [
       "2069"
      ]
     },
     "execution_count": 70,
     "metadata": {},
     "output_type": "execute_result"
    }
   ],
   "source": [
    "df_test['weight_mfi'].nunique()"
   ]
  },
  {
   "cell_type": "code",
   "execution_count": 71,
   "id": "296e5c5c",
   "metadata": {},
   "outputs": [
    {
     "data": {
      "image/png": "[encoded data removed]",
      "text/plain": [
       "<Figure size 1080x360 with 1 Axes>"
      ]
     },
     "metadata": {
      "needs_background": "light"
     },
     "output_type": "display_data"
    }
   ],
   "source": [
    "boxplot(df_train['weight_mfi'])"
   ]
  },
  {
   "cell_type": "code",
   "execution_count": 72,
   "id": "0a57227f",
   "metadata": {},
   "outputs": [
    {
     "data": {
      "text/plain": [
       "542.0"
      ]
     },
     "execution_count": 72,
     "metadata": {},
     "output_type": "execute_result"
    }
   ],
   "source": [
    "a2 = np.percentile(df_train['weight_mfi'], [97])\n",
    "a2[0]"
   ]
  },
  {
   "cell_type": "code",
   "execution_count": 73,
   "id": "6e0e09f2",
   "metadata": {},
   "outputs": [
    {
     "data": {
      "text/plain": [
       "5378411"
      ]
     },
     "execution_count": 73,
     "metadata": {},
     "output_type": "execute_result"
    }
   ],
   "source": [
    "df_train = df_train[df_train['weight_mfi'] <= a2[0]]\n",
    "len(df_train)"
   ]
  },
  {
   "cell_type": "code",
   "execution_count": 74,
   "id": "ce9022a6",
   "metadata": {},
   "outputs": [
    {
     "data": {
      "image/png": "[encoded data removed]",
      "text/plain": [
       "<Figure size 1080x360 with 1 Axes>"
      ]
     },
     "metadata": {
      "needs_background": "light"
     },
     "output_type": "display_data"
    }
   ],
   "source": [
    "boxplot(df_train['weight_mfi'])"
   ]
  },
  {
   "cell_type": "markdown",
   "id": "f7820a09",
   "metadata": {},
   "source": [
    "Проверим были ли посылки с нулевым суммарным весом вложений."
   ]
  },
  {
   "cell_type": "code",
   "execution_count": 75,
   "id": "141206ba",
   "metadata": {},
   "outputs": [
    {
     "data": {
      "text/plain": [
       "662206"
      ]
     },
     "execution_count": 75,
     "metadata": {},
     "output_type": "execute_result"
    }
   ],
   "source": [
    "df_train[df_train['weight_mfi']==0].id.nunique()"
   ]
  },
  {
   "cell_type": "code",
   "execution_count": 76,
   "id": "c33d9a25",
   "metadata": {},
   "outputs": [
    {
     "data": {
      "text/plain": [
       "545468"
      ]
     },
     "execution_count": 76,
     "metadata": {},
     "output_type": "execute_result"
    }
   ],
   "source": [
    "df_test[df_test['weight_mfi']==0].id.nunique()"
   ]
  },
  {
   "cell_type": "code",
   "execution_count": 77,
   "id": "41a0232b",
   "metadata": {},
   "outputs": [
    {
     "data": {
      "text/plain": [
       "10717"
      ]
     },
     "execution_count": 77,
     "metadata": {},
     "output_type": "execute_result"
    }
   ],
   "source": [
    "df_train[(df_train['weight_mfi']==0)&(df_train['label']==1)].id.nunique()"
   ]
  },
  {
   "cell_type": "code",
   "execution_count": 78,
   "id": "be27b8fe",
   "metadata": {},
   "outputs": [
    {
     "data": {
      "text/html": [
       "<div>\n",
       "<style scoped>\n",
       "    .dataframe tbody tr th:only-of-type {\n",
       "        vertical-align: middle;\n",
       "    }\n",
       "\n",
       "    .dataframe tbody tr th {\n",
       "        vertical-align: top;\n",
       "    }\n",
       "\n",
       "    .dataframe thead th {\n",
       "        text-align: right;\n",
       "    }\n",
       "</style>\n",
       "<table border=\"1\" class=\"dataframe\">\n",
       "  <thead>\n",
       "    <tr style=\"text-align: right;\">\n",
       "      <th>label</th>\n",
       "      <th>0</th>\n",
       "      <th>1</th>\n",
       "    </tr>\n",
       "    <tr>\n",
       "      <th>weight_mfi</th>\n",
       "      <th></th>\n",
       "      <th></th>\n",
       "    </tr>\n",
       "  </thead>\n",
       "  <tbody>\n",
       "    <tr>\n",
       "      <th>0.0</th>\n",
       "      <td>651489</td>\n",
       "      <td>10717</td>\n",
       "    </tr>\n",
       "    <tr>\n",
       "      <th>1.0</th>\n",
       "      <td>3875</td>\n",
       "      <td>57</td>\n",
       "    </tr>\n",
       "    <tr>\n",
       "      <th>2.0</th>\n",
       "      <td>3677</td>\n",
       "      <td>62</td>\n",
       "    </tr>\n",
       "    <tr>\n",
       "      <th>3.0</th>\n",
       "      <td>4054</td>\n",
       "      <td>69</td>\n",
       "    </tr>\n",
       "    <tr>\n",
       "      <th>4.0</th>\n",
       "      <td>4832</td>\n",
       "      <td>111</td>\n",
       "    </tr>\n",
       "    <tr>\n",
       "      <th>5.0</th>\n",
       "      <td>9241</td>\n",
       "      <td>294</td>\n",
       "    </tr>\n",
       "    <tr>\n",
       "      <th>6.0</th>\n",
       "      <td>7655</td>\n",
       "      <td>222</td>\n",
       "    </tr>\n",
       "    <tr>\n",
       "      <th>7.0</th>\n",
       "      <td>8753</td>\n",
       "      <td>232</td>\n",
       "    </tr>\n",
       "    <tr>\n",
       "      <th>8.0</th>\n",
       "      <td>13103</td>\n",
       "      <td>328</td>\n",
       "    </tr>\n",
       "    <tr>\n",
       "      <th>9.0</th>\n",
       "      <td>20222</td>\n",
       "      <td>874</td>\n",
       "    </tr>\n",
       "  </tbody>\n",
       "</table>\n",
       "</div>"
      ],
      "text/plain": [
       "label            0      1\n",
       "weight_mfi               \n",
       "0.0         651489  10717\n",
       "1.0           3875     57\n",
       "2.0           3677     62\n",
       "3.0           4054     69\n",
       "4.0           4832    111\n",
       "5.0           9241    294\n",
       "6.0           7655    222\n",
       "7.0           8753    232\n",
       "8.0          13103    328\n",
       "9.0          20222    874"
      ]
     },
     "execution_count": 78,
     "metadata": {},
     "output_type": "execute_result"
    }
   ],
   "source": [
    "df_train[df_train['weight_mfi']<10].pivot_table(index='weight_mfi', columns='label', values='id', aggfunc='count')"
   ]
  },
  {
   "cell_type": "markdown",
   "id": "fdb151b0",
   "metadata": {},
   "source": [
    "10731 потерянная посылка имела нулевой вес. Отсечем здесь тоже по 10 граммам."
   ]
  },
  {
   "cell_type": "code",
   "execution_count": 79,
   "id": "838faf7a",
   "metadata": {},
   "outputs": [
    {
     "data": {
      "text/plain": [
       "4638544"
      ]
     },
     "execution_count": 79,
     "metadata": {},
     "output_type": "execute_result"
    }
   ],
   "source": [
    "df_train = df_train[df_train['weight_mfi']>=10]\n",
    "len(df_train)"
   ]
  },
  {
   "cell_type": "markdown",
   "id": "09cfb1b4",
   "metadata": {},
   "source": [
    "#### price_mfi Суммарная стоимость вложений в условной валюте"
   ]
  },
  {
   "cell_type": "code",
   "execution_count": 80,
   "id": "f8afc09b",
   "metadata": {},
   "outputs": [
    {
     "name": "stdout",
     "output_type": "stream",
     "text": [
      "df_train 3819\n",
      "df_test 6529\n"
     ]
    }
   ],
   "source": [
    "uniq('price_mfi')"
   ]
  },
  {
   "cell_type": "code",
   "execution_count": 81,
   "id": "09444512",
   "metadata": {},
   "outputs": [
    {
     "data": {
      "image/png": "[encoded data removed]",
      "text/plain": [
       "<Figure size 1080x360 with 1 Axes>"
      ]
     },
     "metadata": {
      "needs_background": "light"
     },
     "output_type": "display_data"
    }
   ],
   "source": [
    "boxplot(df_train['price_mfi'])"
   ]
  },
  {
   "cell_type": "code",
   "execution_count": 82,
   "id": "86d59ba5",
   "metadata": {},
   "outputs": [
    {
     "data": {
      "text/plain": [
       "1375.0"
      ]
     },
     "execution_count": 82,
     "metadata": {},
     "output_type": "execute_result"
    }
   ],
   "source": [
    "a3 = np.percentile(df_train['price_mfi'], [97])\n",
    "a3[0]"
   ]
  },
  {
   "cell_type": "code",
   "execution_count": 83,
   "id": "6ef74630",
   "metadata": {},
   "outputs": [
    {
     "data": {
      "text/plain": [
       "4499549"
      ]
     },
     "execution_count": 83,
     "metadata": {},
     "output_type": "execute_result"
    }
   ],
   "source": [
    "df_train = df_train[df_train['price_mfi'] <= a3[0]]\n",
    "len(df_train)"
   ]
  },
  {
   "cell_type": "code",
   "execution_count": 84,
   "id": "f0a7ad9b",
   "metadata": {},
   "outputs": [
    {
     "data": {
      "image/png": "[encoded data removed]",
      "text/plain": [
       "<Figure size 1080x360 with 1 Axes>"
      ]
     },
     "metadata": {
      "needs_background": "light"
     },
     "output_type": "display_data"
    }
   ],
   "source": [
    "boxplot(df_train['price_mfi'])"
   ]
  },
  {
   "cell_type": "markdown",
   "id": "bab66863",
   "metadata": {},
   "source": [
    "Проверим были ли посылки с нулевой стоимостью доставки."
   ]
  },
  {
   "cell_type": "code",
   "execution_count": 85,
   "id": "064569f0",
   "metadata": {},
   "outputs": [
    {
     "data": {
      "text/plain": [
       "205"
      ]
     },
     "execution_count": 85,
     "metadata": {},
     "output_type": "execute_result"
    }
   ],
   "source": [
    "df_train[df_train['price_mfi']==0].id.nunique()"
   ]
  },
  {
   "cell_type": "code",
   "execution_count": 86,
   "id": "4ba60c43",
   "metadata": {},
   "outputs": [
    {
     "data": {
      "text/plain": [
       "10.0"
      ]
     },
     "execution_count": 86,
     "metadata": {},
     "output_type": "execute_result"
    }
   ],
   "source": [
    "a3 = np.percentile(df_train['price_mfi'], [2])\n",
    "a3[0]"
   ]
  },
  {
   "cell_type": "code",
   "execution_count": 87,
   "id": "f03347da",
   "metadata": {},
   "outputs": [
    {
     "data": {
      "text/html": [
       "<div>\n",
       "<style scoped>\n",
       "    .dataframe tbody tr th:only-of-type {\n",
       "        vertical-align: middle;\n",
       "    }\n",
       "\n",
       "    .dataframe tbody tr th {\n",
       "        vertical-align: top;\n",
       "    }\n",
       "\n",
       "    .dataframe thead th {\n",
       "        text-align: right;\n",
       "    }\n",
       "</style>\n",
       "<table border=\"1\" class=\"dataframe\">\n",
       "  <thead>\n",
       "    <tr style=\"text-align: right;\">\n",
       "      <th>label</th>\n",
       "      <th>0</th>\n",
       "      <th>1</th>\n",
       "    </tr>\n",
       "    <tr>\n",
       "      <th>price_mfi</th>\n",
       "      <th></th>\n",
       "      <th></th>\n",
       "    </tr>\n",
       "  </thead>\n",
       "  <tbody>\n",
       "    <tr>\n",
       "      <th>0.0</th>\n",
       "      <td>202</td>\n",
       "      <td>3</td>\n",
       "    </tr>\n",
       "    <tr>\n",
       "      <th>1.0</th>\n",
       "      <td>17240</td>\n",
       "      <td>751</td>\n",
       "    </tr>\n",
       "    <tr>\n",
       "      <th>2.0</th>\n",
       "      <td>13262</td>\n",
       "      <td>665</td>\n",
       "    </tr>\n",
       "    <tr>\n",
       "      <th>3.0</th>\n",
       "      <td>3879</td>\n",
       "      <td>176</td>\n",
       "    </tr>\n",
       "    <tr>\n",
       "      <th>4.0</th>\n",
       "      <td>3312</td>\n",
       "      <td>139</td>\n",
       "    </tr>\n",
       "    <tr>\n",
       "      <th>5.0</th>\n",
       "      <td>6201</td>\n",
       "      <td>308</td>\n",
       "    </tr>\n",
       "    <tr>\n",
       "      <th>6.0</th>\n",
       "      <td>2047</td>\n",
       "      <td>100</td>\n",
       "    </tr>\n",
       "    <tr>\n",
       "      <th>7.0</th>\n",
       "      <td>1710</td>\n",
       "      <td>81</td>\n",
       "    </tr>\n",
       "    <tr>\n",
       "      <th>8.0</th>\n",
       "      <td>3166</td>\n",
       "      <td>119</td>\n",
       "    </tr>\n",
       "    <tr>\n",
       "      <th>9.0</th>\n",
       "      <td>1487</td>\n",
       "      <td>60</td>\n",
       "    </tr>\n",
       "  </tbody>\n",
       "</table>\n",
       "</div>"
      ],
      "text/plain": [
       "label          0    1\n",
       "price_mfi            \n",
       "0.0          202    3\n",
       "1.0        17240  751\n",
       "2.0        13262  665\n",
       "3.0         3879  176\n",
       "4.0         3312  139\n",
       "5.0         6201  308\n",
       "6.0         2047  100\n",
       "7.0         1710   81\n",
       "8.0         3166  119\n",
       "9.0         1487   60"
      ]
     },
     "execution_count": 87,
     "metadata": {},
     "output_type": "execute_result"
    }
   ],
   "source": [
    "df_train[df_train['price_mfi']<10].pivot_table(index='price_mfi', columns='label', values='id', aggfunc='count')"
   ]
  },
  {
   "cell_type": "code",
   "execution_count": 88,
   "id": "40506a94",
   "metadata": {},
   "outputs": [
    {
     "data": {
      "text/plain": [
       "4444641"
      ]
     },
     "execution_count": 88,
     "metadata": {},
     "output_type": "execute_result"
    }
   ],
   "source": [
    "df_train = df_train[df_train['price_mfi']>=10]\n",
    "len(df_train)"
   ]
  },
  {
   "cell_type": "markdown",
   "id": "3e5af77e",
   "metadata": {},
   "source": [
    "#### dist_qty_oper_login_1 Количество уникальных имен операторов, задействованных в обработке данного типа отправлений (mailtype) на конкретном индексе, по которым возможно идентифицировать оператора\n"
   ]
  },
  {
   "cell_type": "code",
   "execution_count": 89,
   "id": "28e27a06",
   "metadata": {},
   "outputs": [
    {
     "name": "stdout",
     "output_type": "stream",
     "text": [
      "df_train 154\n",
      "df_test 164\n"
     ]
    }
   ],
   "source": [
    "uniq('dist_qty_oper_login_1')"
   ]
  },
  {
   "cell_type": "code",
   "execution_count": 90,
   "id": "7d13cbcd",
   "metadata": {},
   "outputs": [
    {
     "data": {
      "image/png": "[encoded data removed]",
      "text/plain": [
       "<Figure size 1080x360 with 1 Axes>"
      ]
     },
     "metadata": {
      "needs_background": "light"
     },
     "output_type": "display_data"
    }
   ],
   "source": [
    "df_countplot(df_train, 'dist_qty_oper_login_1', 'label')"
   ]
  },
  {
   "cell_type": "markdown",
   "id": "976d5f1a",
   "metadata": {},
   "source": [
    "#### total_qty_oper_login_1 Количество отправлений с уникальным именем операторов,\n",
    "задействованных в обработке\n",
    "данного типа отправлений\n",
    "(mailtype) на конкретном индексе,\n",
    "по которым возможно\n",
    "идентифицировать оператора"
   ]
  },
  {
   "cell_type": "code",
   "execution_count": 91,
   "id": "2832111b",
   "metadata": {},
   "outputs": [
    {
     "name": "stdout",
     "output_type": "stream",
     "text": [
      "df_train 17826\n",
      "df_test 18268\n"
     ]
    }
   ],
   "source": [
    "uniq('total_qty_oper_login_1')"
   ]
  },
  {
   "cell_type": "markdown",
   "id": "1403fcf5",
   "metadata": {},
   "source": [
    "#### total_qty_oper_login_0  Количество отправлений данного типа (mailtype), \n",
    "которые были\n",
    "обработаны неизвестным\n",
    "оператором на этом индексе"
   ]
  },
  {
   "cell_type": "code",
   "execution_count": 92,
   "id": "da5c0e97",
   "metadata": {},
   "outputs": [
    {
     "name": "stdout",
     "output_type": "stream",
     "text": [
      "df_train 9118\n",
      "df_test 9319\n"
     ]
    }
   ],
   "source": [
    "uniq('total_qty_oper_login_0')"
   ]
  },
  {
   "cell_type": "markdown",
   "id": "b657355c",
   "metadata": {},
   "source": [
    "#### total_qty_over_index_and_type Общее количество отправлений данного типа (mailtype), прошедших обработку на этом индексе"
   ]
  },
  {
   "cell_type": "code",
   "execution_count": 93,
   "id": "2898ac76",
   "metadata": {},
   "outputs": [
    {
     "name": "stdout",
     "output_type": "stream",
     "text": [
      "df_train 19503\n",
      "df_test 19977\n"
     ]
    }
   ],
   "source": [
    "uniq('total_qty_over_index_and_type')"
   ]
  },
  {
   "cell_type": "markdown",
   "id": "132a1a5d",
   "metadata": {},
   "source": [
    "#### is_wrong_sndr_name Есть ли явные признаки, что имя отправителя введено некорректно?"
   ]
  },
  {
   "cell_type": "code",
   "execution_count": 94,
   "id": "a8ab2044",
   "metadata": {},
   "outputs": [
    {
     "name": "stdout",
     "output_type": "stream",
     "text": [
      "df_train\n",
      "0    4442236\n",
      "1       2405\n",
      "Name: is_wrong_sndr_name, dtype: int64\n",
      "df_test\n",
      "0    3989669\n",
      "1      10331\n",
      "Name: is_wrong_sndr_name, dtype: int64\n"
     ]
    }
   ],
   "source": [
    "val('is_wrong_sndr_name')"
   ]
  },
  {
   "cell_type": "code",
   "execution_count": 95,
   "id": "7e99d6c5",
   "metadata": {},
   "outputs": [
    {
     "data": {
      "image/png": "[encoded data removed]",
      "text/plain": [
       "<Figure size 1080x360 with 1 Axes>"
      ]
     },
     "metadata": {
      "needs_background": "light"
     },
     "output_type": "display_data"
    },
    {
     "data": {
      "text/html": [
       "<div>\n",
       "<style scoped>\n",
       "    .dataframe tbody tr th:only-of-type {\n",
       "        vertical-align: middle;\n",
       "    }\n",
       "\n",
       "    .dataframe tbody tr th {\n",
       "        vertical-align: top;\n",
       "    }\n",
       "\n",
       "    .dataframe thead th {\n",
       "        text-align: right;\n",
       "    }\n",
       "</style>\n",
       "<table border=\"1\" class=\"dataframe\">\n",
       "  <thead>\n",
       "    <tr style=\"text-align: right;\">\n",
       "      <th>label</th>\n",
       "      <th>0</th>\n",
       "      <th>1</th>\n",
       "    </tr>\n",
       "    <tr>\n",
       "      <th>is_wrong_sndr_name</th>\n",
       "      <th></th>\n",
       "      <th></th>\n",
       "    </tr>\n",
       "  </thead>\n",
       "  <tbody>\n",
       "    <tr>\n",
       "      <th>0</th>\n",
       "      <td>4302503</td>\n",
       "      <td>139733</td>\n",
       "    </tr>\n",
       "    <tr>\n",
       "      <th>1</th>\n",
       "      <td>2140</td>\n",
       "      <td>265</td>\n",
       "    </tr>\n",
       "  </tbody>\n",
       "</table>\n",
       "</div>"
      ],
      "text/plain": [
       "label                     0       1\n",
       "is_wrong_sndr_name                 \n",
       "0                   4302503  139733\n",
       "1                      2140     265"
      ]
     },
     "execution_count": 95,
     "metadata": {},
     "output_type": "execute_result"
    }
   ],
   "source": [
    "df_countplot(df_train, 'is_wrong_sndr_name', 'label')\n",
    "df_train.pivot_table(index='is_wrong_sndr_name', columns='label', values='id', aggfunc='count')"
   ]
  },
  {
   "cell_type": "markdown",
   "id": "9983a4cf",
   "metadata": {},
   "source": [
    "Признак выглядит бесполезным."
   ]
  },
  {
   "cell_type": "markdown",
   "id": "d88b7fd3",
   "metadata": {},
   "source": [
    "#### is_wrong_rcpn_name Есть ли явные признаки, что имя получателя введено некорректно?"
   ]
  },
  {
   "cell_type": "code",
   "execution_count": 96,
   "id": "094bcee7",
   "metadata": {},
   "outputs": [
    {
     "name": "stdout",
     "output_type": "stream",
     "text": [
      "df_train\n",
      "0    4442236\n",
      "1       2405\n",
      "Name: is_wrong_sndr_name, dtype: int64\n",
      "df_test\n",
      "0    3989669\n",
      "1      10331\n",
      "Name: is_wrong_sndr_name, dtype: int64\n"
     ]
    }
   ],
   "source": [
    "val('is_wrong_sndr_name')"
   ]
  },
  {
   "cell_type": "code",
   "execution_count": 97,
   "id": "ceccc2c5",
   "metadata": {
    "scrolled": false
   },
   "outputs": [
    {
     "data": {
      "image/png": "[encoded data removed]",
      "text/plain": [
       "<Figure size 1080x360 with 1 Axes>"
      ]
     },
     "metadata": {
      "needs_background": "light"
     },
     "output_type": "display_data"
    },
    {
     "data": {
      "text/html": [
       "<div>\n",
       "<style scoped>\n",
       "    .dataframe tbody tr th:only-of-type {\n",
       "        vertical-align: middle;\n",
       "    }\n",
       "\n",
       "    .dataframe tbody tr th {\n",
       "        vertical-align: top;\n",
       "    }\n",
       "\n",
       "    .dataframe thead th {\n",
       "        text-align: right;\n",
       "    }\n",
       "</style>\n",
       "<table border=\"1\" class=\"dataframe\">\n",
       "  <thead>\n",
       "    <tr style=\"text-align: right;\">\n",
       "      <th>label</th>\n",
       "      <th>0</th>\n",
       "      <th>1</th>\n",
       "    </tr>\n",
       "    <tr>\n",
       "      <th>is_wrong_rcpn_name</th>\n",
       "      <th></th>\n",
       "      <th></th>\n",
       "    </tr>\n",
       "  </thead>\n",
       "  <tbody>\n",
       "    <tr>\n",
       "      <th>0</th>\n",
       "      <td>3455291</td>\n",
       "      <td>114684</td>\n",
       "    </tr>\n",
       "    <tr>\n",
       "      <th>1</th>\n",
       "      <td>849352</td>\n",
       "      <td>25314</td>\n",
       "    </tr>\n",
       "  </tbody>\n",
       "</table>\n",
       "</div>"
      ],
      "text/plain": [
       "label                     0       1\n",
       "is_wrong_rcpn_name                 \n",
       "0                   3455291  114684\n",
       "1                    849352   25314"
      ]
     },
     "execution_count": 97,
     "metadata": {},
     "output_type": "execute_result"
    }
   ],
   "source": [
    "df_countplot(df_train, 'is_wrong_rcpn_name', 'label')\n",
    "df_train.pivot_table(index='is_wrong_rcpn_name', columns='label', values='id', aggfunc='count')"
   ]
  },
  {
   "cell_type": "markdown",
   "id": "fcef347b",
   "metadata": {},
   "source": [
    "#### is_wrong_phone_number Есть ли явные признаки, что номер телефона получателя введен некорректно?\n"
   ]
  },
  {
   "cell_type": "code",
   "execution_count": 98,
   "id": "2accde51",
   "metadata": {},
   "outputs": [
    {
     "name": "stdout",
     "output_type": "stream",
     "text": [
      "df_train\n",
      "0    3600972\n",
      "1     843669\n",
      "Name: is_wrong_phone_number, dtype: int64\n",
      "df_test\n",
      "0    3317021\n",
      "1     682979\n",
      "Name: is_wrong_phone_number, dtype: int64\n"
     ]
    }
   ],
   "source": [
    "val('is_wrong_phone_number')"
   ]
  },
  {
   "cell_type": "code",
   "execution_count": 99,
   "id": "adc3ff1f",
   "metadata": {
    "scrolled": false
   },
   "outputs": [
    {
     "data": {
      "image/png": "[encoded data removed]",
      "text/plain": [
       "<Figure size 1080x360 with 1 Axes>"
      ]
     },
     "metadata": {
      "needs_background": "light"
     },
     "output_type": "display_data"
    },
    {
     "data": {
      "text/html": [
       "<div>\n",
       "<style scoped>\n",
       "    .dataframe tbody tr th:only-of-type {\n",
       "        vertical-align: middle;\n",
       "    }\n",
       "\n",
       "    .dataframe tbody tr th {\n",
       "        vertical-align: top;\n",
       "    }\n",
       "\n",
       "    .dataframe thead th {\n",
       "        text-align: right;\n",
       "    }\n",
       "</style>\n",
       "<table border=\"1\" class=\"dataframe\">\n",
       "  <thead>\n",
       "    <tr style=\"text-align: right;\">\n",
       "      <th>label</th>\n",
       "      <th>0</th>\n",
       "      <th>1</th>\n",
       "    </tr>\n",
       "    <tr>\n",
       "      <th>is_wrong_phone_number</th>\n",
       "      <th></th>\n",
       "      <th></th>\n",
       "    </tr>\n",
       "  </thead>\n",
       "  <tbody>\n",
       "    <tr>\n",
       "      <th>0</th>\n",
       "      <td>3532107</td>\n",
       "      <td>68865</td>\n",
       "    </tr>\n",
       "    <tr>\n",
       "      <th>1</th>\n",
       "      <td>772536</td>\n",
       "      <td>71133</td>\n",
       "    </tr>\n",
       "  </tbody>\n",
       "</table>\n",
       "</div>"
      ],
      "text/plain": [
       "label                        0      1\n",
       "is_wrong_phone_number                \n",
       "0                      3532107  68865\n",
       "1                       772536  71133"
      ]
     },
     "execution_count": 99,
     "metadata": {},
     "output_type": "execute_result"
    }
   ],
   "source": [
    "df_countplot(df_train, 'is_wrong_phone_number', 'label')\n",
    "df_train.pivot_table(index='is_wrong_phone_number', columns='label', values='id', aggfunc='count')"
   ]
  },
  {
   "cell_type": "markdown",
   "id": "98580bef",
   "metadata": {},
   "source": [
    "#### is_wrong_address Есть ли явные признаки, что адрес получателя введен некорректно?"
   ]
  },
  {
   "cell_type": "code",
   "execution_count": 100,
   "id": "7c3266e6",
   "metadata": {},
   "outputs": [
    {
     "name": "stdout",
     "output_type": "stream",
     "text": [
      "df_train\n",
      "0    4442948\n",
      "1       1693\n",
      "Name: is_wrong_address, dtype: int64\n",
      "df_test\n",
      "0    3995054\n",
      "1       4946\n",
      "Name: is_wrong_address, dtype: int64\n"
     ]
    }
   ],
   "source": [
    "val('is_wrong_address')"
   ]
  },
  {
   "cell_type": "code",
   "execution_count": 101,
   "id": "4b68bf9c",
   "metadata": {
    "scrolled": false
   },
   "outputs": [
    {
     "data": {
      "image/png": "[encoded data removed]",
      "text/plain": [
       "<Figure size 1080x360 with 1 Axes>"
      ]
     },
     "metadata": {
      "needs_background": "light"
     },
     "output_type": "display_data"
    },
    {
     "data": {
      "text/html": [
       "<div>\n",
       "<style scoped>\n",
       "    .dataframe tbody tr th:only-of-type {\n",
       "        vertical-align: middle;\n",
       "    }\n",
       "\n",
       "    .dataframe tbody tr th {\n",
       "        vertical-align: top;\n",
       "    }\n",
       "\n",
       "    .dataframe thead th {\n",
       "        text-align: right;\n",
       "    }\n",
       "</style>\n",
       "<table border=\"1\" class=\"dataframe\">\n",
       "  <thead>\n",
       "    <tr style=\"text-align: right;\">\n",
       "      <th>label</th>\n",
       "      <th>0</th>\n",
       "      <th>1</th>\n",
       "    </tr>\n",
       "    <tr>\n",
       "      <th>is_wrong_address</th>\n",
       "      <th></th>\n",
       "      <th></th>\n",
       "    </tr>\n",
       "  </thead>\n",
       "  <tbody>\n",
       "    <tr>\n",
       "      <th>0</th>\n",
       "      <td>4303149</td>\n",
       "      <td>139799</td>\n",
       "    </tr>\n",
       "    <tr>\n",
       "      <th>1</th>\n",
       "      <td>1494</td>\n",
       "      <td>199</td>\n",
       "    </tr>\n",
       "  </tbody>\n",
       "</table>\n",
       "</div>"
      ],
      "text/plain": [
       "label                   0       1\n",
       "is_wrong_address                 \n",
       "0                 4303149  139799\n",
       "1                    1494     199"
      ]
     },
     "execution_count": 101,
     "metadata": {},
     "output_type": "execute_result"
    }
   ],
   "source": [
    "df_countplot(df_train, 'is_wrong_address', 'label')\n",
    "df_train.pivot_table(index='is_wrong_address', columns='label', values='id', aggfunc='count')"
   ]
  },
  {
   "cell_type": "markdown",
   "id": "da46d251",
   "metadata": {},
   "source": [
    "Признак выглядит бесполезным."
   ]
  },
  {
   "cell_type": "markdown",
   "id": "0bebcb30",
   "metadata": {},
   "source": [
    "### Удаление столбцов, мало влияющих на работу модели"
   ]
  },
  {
   "cell_type": "code",
   "execution_count": 102,
   "id": "4c990a22",
   "metadata": {},
   "outputs": [
    {
     "data": {
      "image/png": "[encoded data removed]",
      "text/plain": [
       "<Figure size 1152x1152 with 2 Axes>"
      ]
     },
     "metadata": {
      "needs_background": "light"
     },
     "output_type": "display_data"
    }
   ],
   "source": [
    "plt.rcParams['figure.figsize']=(16,16)\n",
    "\n",
    "corr = df_train.iloc[:200000].corr()\n",
    "g = sns.heatmap(corr, square = True, annot=True , fmt='.1f', annot_kws={'size':10})"
   ]
  },
  {
   "cell_type": "markdown",
   "id": "381a6ba9",
   "metadata": {},
   "source": [
    "Признаки 'total_qty_oper_login_1', 'total_qty_over_index_and_type','total_qty_over_index', 'total_qty_oper_login_0' коррелируют между собой. оставила dist_qty_oper_login_1."
   ]
  },
  {
   "cell_type": "code",
   "execution_count": 103,
   "id": "96351e69",
   "metadata": {},
   "outputs": [],
   "source": [
    "cols_to_drop = ['total_qty_oper_login_1', 'total_qty_over_index_and_type',\\\n",
    "               'total_qty_over_index', 'total_qty_oper_login_0']\n",
    "df_train = df_train[df_train.columns.drop(cols_to_drop)]\n",
    "df_test = df_test[df_test.columns.drop(cols_to_drop)]"
   ]
  },
  {
   "cell_type": "markdown",
   "id": "b1257ea0",
   "metadata": {},
   "source": [
    "Также удалю столбцы:\n",
    "\n",
    "* 'weight' - сильная корреляция \n",
    "* 'mailrank' - признак имеет одно значение\n",
    "* 'index_oper', 'is_privatecategory', 'is_in_yandex', 'is_return', 'mailtype', 'directctg', 'postmark, 'is_wrong_sndr_name', 'is_wrong_address' - признаки слабо влияли на качество модели.\n",
    "* 'priority', 'is_wrong_rcpn_name', 'is_wrong_phone_number', ', 'oper_type + oper_attr' - признаки слабо влияли на качество модели."
   ]
  },
  {
   "cell_type": "code",
   "execution_count": 104,
   "id": "c8fc1cce",
   "metadata": {},
   "outputs": [],
   "source": [
    "cols_to_drop = ['index_oper', 'is_privatecategory', 'is_in_yandex', 'is_return', 'weight', 'mailtype',\\\n",
    "               'mailrank', 'directctg', 'postmark', 'is_wrong_sndr_name', 'is_wrong_address',\\\n",
    "                'priority', 'is_wrong_rcpn_name', 'is_wrong_phone_number', 'oper_type + oper_attr']\n",
    "df_train = df_train[df_train.columns.drop(cols_to_drop)]\n",
    "df_test = df_test[df_test.columns.drop(cols_to_drop)]"
   ]
  },
  {
   "cell_type": "markdown",
   "id": "e46a49a5",
   "metadata": {},
   "source": [
    "### Типы данных"
   ]
  },
  {
   "cell_type": "code",
   "execution_count": 105,
   "id": "f883bca2",
   "metadata": {},
   "outputs": [
    {
     "name": "stdout",
     "output_type": "stream",
     "text": [
      "<class 'pandas.core.frame.DataFrame'>\n",
      "Int64Index: 4444641 entries, 0 to 5999999\n",
      "Data columns (total 11 columns):\n",
      " #   Column                 Dtype  \n",
      "---  ------                 -----  \n",
      " 0   id                     int64  \n",
      " 1   type                   object \n",
      " 2   class                  float64\n",
      " 3   mailctg                float64\n",
      " 4   transport_pay          float64\n",
      " 5   name_mfi               object \n",
      " 6   weight_mfi             float64\n",
      " 7   price_mfi              float64\n",
      " 8   dist_qty_oper_login_1  float64\n",
      " 9   label                  int64  \n",
      " 10  mfi_name_count         int64  \n",
      "dtypes: float64(6), int64(3), object(2)\n",
      "memory usage: 406.9+ MB\n"
     ]
    }
   ],
   "source": [
    "df_train.info()"
   ]
  },
  {
   "cell_type": "markdown",
   "id": "e4b32a49",
   "metadata": {},
   "source": [
    "### Проверка на мультиколлениарность"
   ]
  },
  {
   "cell_type": "code",
   "execution_count": 106,
   "id": "f9b6dd6d",
   "metadata": {},
   "outputs": [
    {
     "data": {
      "image/png": "[encoded data removed]",
      "text/plain": [
       "<Figure size 1152x1152 with 2 Axes>"
      ]
     },
     "metadata": {
      "needs_background": "light"
     },
     "output_type": "display_data"
    }
   ],
   "source": [
    "plt.rcParams['figure.figsize']=(16,16)\n",
    "\n",
    "corr = df_train.iloc[:100000].corr()\n",
    "g = sns.heatmap(corr, square = True, annot=True , fmt='.1f', annot_kws={'size':10})"
   ]
  },
  {
   "cell_type": "markdown",
   "id": "214d8978",
   "metadata": {},
   "source": [
    "### Проверка датасетов на пропуски"
   ]
  },
  {
   "cell_type": "code",
   "execution_count": 107,
   "id": "94cd48b9",
   "metadata": {},
   "outputs": [
    {
     "name": "stdout",
     "output_type": "stream",
     "text": [
      "<class 'pandas.core.frame.DataFrame'>\n",
      "Int64Index: 4444641 entries, 0 to 5999999\n",
      "Data columns (total 11 columns):\n",
      " #   Column                 Non-Null Count    Dtype  \n",
      "---  ------                 --------------    -----  \n",
      " 0   id                     4444641 non-null  int64  \n",
      " 1   type                   4444641 non-null  object \n",
      " 2   class                  4444641 non-null  float64\n",
      " 3   mailctg                4444641 non-null  float64\n",
      " 4   transport_pay          4444641 non-null  float64\n",
      " 5   name_mfi               4444641 non-null  object \n",
      " 6   weight_mfi             4444641 non-null  float64\n",
      " 7   price_mfi              4444641 non-null  float64\n",
      " 8   dist_qty_oper_login_1  4444641 non-null  float64\n",
      " 9   label                  4444641 non-null  int64  \n",
      " 10  mfi_name_count         4444641 non-null  int64  \n",
      "dtypes: float64(6), int64(3), object(2)\n",
      "memory usage: 406.9+ MB\n"
     ]
    }
   ],
   "source": [
    "df_train.info(show_counts=True)"
   ]
  },
  {
   "cell_type": "code",
   "execution_count": 108,
   "id": "824f6f37",
   "metadata": {},
   "outputs": [
    {
     "name": "stdout",
     "output_type": "stream",
     "text": [
      "<class 'pandas.core.frame.DataFrame'>\n",
      "RangeIndex: 4000000 entries, 0 to 3999999\n",
      "Data columns (total 10 columns):\n",
      " #   Column                 Non-Null Count    Dtype  \n",
      "---  ------                 --------------    -----  \n",
      " 0   id                     4000000 non-null  int64  \n",
      " 1   type                   4000000 non-null  object \n",
      " 2   class                  4000000 non-null  float64\n",
      " 3   mailctg                4000000 non-null  float64\n",
      " 4   transport_pay          4000000 non-null  float64\n",
      " 5   name_mfi               4000000 non-null  object \n",
      " 6   weight_mfi             4000000 non-null  float64\n",
      " 7   price_mfi              4000000 non-null  float64\n",
      " 8   dist_qty_oper_login_1  4000000 non-null  float64\n",
      " 9   mfi_name_count         4000000 non-null  int64  \n",
      "dtypes: float64(6), int64(2), object(2)\n",
      "memory usage: 305.2+ MB\n"
     ]
    }
   ],
   "source": [
    "df_test.info(show_counts=True)"
   ]
  },
  {
   "cell_type": "raw",
   "id": "554e3a73",
   "metadata": {},
   "source": [
    "df_train = df_train.fillna(0)\n",
    "df_test = df_test.fillna(0)"
   ]
  },
  {
   "cell_type": "markdown",
   "id": "972c69f0",
   "metadata": {},
   "source": [
    "## ML"
   ]
  },
  {
   "cell_type": "code",
   "execution_count": 109,
   "id": "577da8e3",
   "metadata": {},
   "outputs": [],
   "source": [
    "# созддим переменную под параметр random_state\n",
    "rs = 42"
   ]
  },
  {
   "cell_type": "code",
   "execution_count": 110,
   "id": "7ee64295",
   "metadata": {},
   "outputs": [],
   "source": [
    "# разделим данные на признаки (матрица X) и целевую переменную (y)\n",
    "X = df_train.drop([\"id\", \"label\", 'name_mfi'], axis = 1)\n",
    "y = df_train[[\"label\"]]\n",
    "\n",
    "X_test = df_test.drop([\"id\", 'name_mfi'], axis = 1)"
   ]
  },
  {
   "cell_type": "code",
   "execution_count": 111,
   "id": "f93cb486",
   "metadata": {},
   "outputs": [],
   "source": [
    "# Из обучающей выборки выделим валидационную выборку\n",
    "X_train, X_val, y_train, y_val =\\\n",
    "train_test_split(X, y, test_size=0.25, random_state=rs, stratify=y)"
   ]
  },
  {
   "cell_type": "markdown",
   "id": "b4590477",
   "metadata": {},
   "source": [
    "### CatBoostClassifier"
   ]
  },
  {
   "cell_type": "code",
   "execution_count": 112,
   "id": "e8f47658",
   "metadata": {},
   "outputs": [],
   "source": [
    "cat_features = ['type'] "
   ]
  },
  {
   "cell_type": "code",
   "execution_count": 113,
   "id": "6716c262",
   "metadata": {},
   "outputs": [
    {
     "data": {
      "text/plain": [
       "[0.5162612788098804, 15.873944627780396]"
      ]
     },
     "execution_count": 113,
     "metadata": {},
     "output_type": "execute_result"
    }
   ],
   "source": [
    "# определение весов целевого класса \n",
    "from sklearn.utils import class_weight\n",
    "cw = list(class_weight.compute_class_weight('balanced',\n",
    "                                             np.unique(df_train['label']),\n",
    "                                             df_train['label']))\n",
    "cw"
   ]
  },
  {
   "cell_type": "code",
   "execution_count": 114,
   "id": "9a0df478",
   "metadata": {},
   "outputs": [
    {
     "name": "stdout",
     "output_type": "stream",
     "text": [
      "0:\tlearn: 0.9288748\ttest: 0.9282857\tbest: 0.9282857 (0)\ttotal: 1.51s\tremaining: 1m 13s\n",
      "10:\tlearn: 0.9365036\ttest: 0.9372286\tbest: 0.9436571 (6)\ttotal: 11.9s\tremaining: 42.3s\n",
      "20:\tlearn: 0.9400846\ttest: 0.9401429\tbest: 0.9436571 (6)\ttotal: 22s\tremaining: 30.4s\n",
      "30:\tlearn: 0.9444561\ttest: 0.9436857\tbest: 0.9441429 (28)\ttotal: 32.7s\tremaining: 20s\n",
      "40:\tlearn: 0.9470180\ttest: 0.9455429\tbest: 0.9457714 (34)\ttotal: 43.6s\tremaining: 9.57s\n",
      "49:\tlearn: 0.9470657\ttest: 0.9449143\tbest: 0.9457714 (34)\ttotal: 53.4s\tremaining: 0us\n",
      "\n",
      "bestTest = 0.9457714286\n",
      "bestIteration = 34\n",
      "\n",
      "Shrink model to first 35 iterations.\n",
      "Wall time: 56.1 s\n"
     ]
    },
    {
     "data": {
      "text/plain": [
       "<catboost.core.CatBoostClassifier at 0x1e817713dc0>"
      ]
     },
     "execution_count": 114,
     "metadata": {},
     "output_type": "execute_result"
    }
   ],
   "source": [
    "%%time\n",
    "model = CatBoostClassifier(\n",
    "    iterations=50,\n",
    "    random_seed=rs,\n",
    "    learning_rate=0.9,\n",
    "    #early_stopping_rounds= 100,\n",
    "    eval_metric='Recall',\n",
    "    depth=14,\n",
    "    class_weights = (cw[0], cw[1]), \n",
    "    cat_features= cat_features,\n",
    "    loss_function='Logloss',\n",
    "    leaf_estimation_method='Gradient',\n",
    "    max_ctr_complexity=1\n",
    ")\n",
    "\n",
    "model.fit(X_train, y_train,\n",
    "         eval_set=(X_val, y_val),\n",
    "          verbose=10,\n",
    "          plot=False\n",
    ")"
   ]
  },
  {
   "cell_type": "code",
   "execution_count": 115,
   "id": "28143ce4",
   "metadata": {},
   "outputs": [
    {
     "data": {
      "image/png": "[encoded data removed]",
      "text/plain": [
       "<Figure size 720x360 with 1 Axes>"
      ]
     },
     "metadata": {
      "needs_background": "light"
     },
     "output_type": "display_data"
    }
   ],
   "source": [
    "df_feature_importance = pd.DataFrame({'feature': X_train.columns.values, 'value': model.feature_importances_})\n",
    "df_feature_importance = df_feature_importance.set_index(['feature'])\n",
    "df_feature_importance = df_feature_importance.sort_values(by='value', ascending=False)\n",
    "df_feature_importance.plot(kind = 'bar', title= model, figsize=(10,5))\n",
    "plt.show()"
   ]
  },
  {
   "cell_type": "code",
   "execution_count": 116,
   "id": "7d7df2b5",
   "metadata": {},
   "outputs": [],
   "source": [
    "pred = model.predict(X_test)"
   ]
  },
  {
   "cell_type": "code",
   "execution_count": 117,
   "id": "6d30f7ad",
   "metadata": {},
   "outputs": [
    {
     "data": {
      "text/html": [
       "<div>\n",
       "<style scoped>\n",
       "    .dataframe tbody tr th:only-of-type {\n",
       "        vertical-align: middle;\n",
       "    }\n",
       "\n",
       "    .dataframe tbody tr th {\n",
       "        vertical-align: top;\n",
       "    }\n",
       "\n",
       "    .dataframe thead th {\n",
       "        text-align: right;\n",
       "    }\n",
       "</style>\n",
       "<table border=\"1\" class=\"dataframe\">\n",
       "  <thead>\n",
       "    <tr style=\"text-align: right;\">\n",
       "      <th></th>\n",
       "      <th>id</th>\n",
       "      <th>label</th>\n",
       "    </tr>\n",
       "  </thead>\n",
       "  <tbody>\n",
       "    <tr>\n",
       "      <th>0</th>\n",
       "      <td>7815282</td>\n",
       "      <td>1</td>\n",
       "    </tr>\n",
       "    <tr>\n",
       "      <th>1</th>\n",
       "      <td>8443555</td>\n",
       "      <td>1</td>\n",
       "    </tr>\n",
       "    <tr>\n",
       "      <th>2</th>\n",
       "      <td>6352559</td>\n",
       "      <td>1</td>\n",
       "    </tr>\n",
       "    <tr>\n",
       "      <th>3</th>\n",
       "      <td>4921420</td>\n",
       "      <td>0</td>\n",
       "    </tr>\n",
       "    <tr>\n",
       "      <th>4</th>\n",
       "      <td>1420440</td>\n",
       "      <td>0</td>\n",
       "    </tr>\n",
       "  </tbody>\n",
       "</table>\n",
       "</div>"
      ],
      "text/plain": [
       "        id  label\n",
       "0  7815282      1\n",
       "1  8443555      1\n",
       "2  6352559      1\n",
       "3  4921420      0\n",
       "4  1420440      0"
      ]
     },
     "execution_count": 117,
     "metadata": {},
     "output_type": "execute_result"
    }
   ],
   "source": [
    "# все признаки\n",
    "Sub = pd.DataFrame({'id':df_test['id'],'label': pred })\n",
    "\n",
    "Sub.head()"
   ]
  },
  {
   "cell_type": "code",
   "execution_count": 118,
   "id": "0dcd1135",
   "metadata": {},
   "outputs": [
    {
     "data": {
      "text/plain": [
       "0    3131403\n",
       "1     868597\n",
       "Name: label, dtype: int64"
      ]
     },
     "execution_count": 118,
     "metadata": {},
     "output_type": "execute_result"
    }
   ],
   "source": [
    "Sub['label'].value_counts()"
   ]
  },
  {
   "cell_type": "code",
   "execution_count": 119,
   "id": "543a979c",
   "metadata": {},
   "outputs": [],
   "source": [
    "Sub.to_csv(\"final.csv\", index=False, line_terminator='\\r')"
   ]
  }
 ],
 "metadata": {
  "kernelspec": {
   "display_name": "Python 3",
   "language": "python",
   "name": "python3"
  },
  "language_info": {
   "codemirror_mode": {
    "name": "ipython",
    "version": 3
   },
   "file_extension": ".py",
   "mimetype": "text/x-python",
   "name": "python",
   "nbconvert_exporter": "python",
   "pygments_lexer": "ipython3",
   "version": "3.8.8"
  }
 },
 "nbformat": 4,
 "nbformat_minor": 5
}
